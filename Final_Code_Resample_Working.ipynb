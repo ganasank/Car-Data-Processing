{
 "cells": [
  {
   "cell_type": "code",
   "execution_count": 3,
   "metadata": {},
   "outputs": [],
   "source": [
    "import pandas as pd\n",
    "import numpy as np\n",
    "import os\n",
    "import matplotlib.pyplot as plt\n",
    "from datetime import datetime\n",
    "Ref=pd.read_excel(r'E:\\PWT\\numpyref.xlsx')\n",
    "leg=pd.read_excel(r'E:\\PWT\\Headers.xlsx',header=None)\n",
    "xls = pd.ExcelFile(r'E:\\PWT\\Time.xlsx')\n",
    "for i in range(15,len(Ref.IMU_SEAT)):\n",
    "    Time1 = pd.read_excel(xls, Ref.TITLE_SHEET[i],header=None)\n",
    "    Time=pd.to_datetime(Time1[1],unit='s')\n",
    "    Time.index=Time\n",
    "    Time.index=Time.index.round('10ms')\n",
    "    path=Ref.IMU_SEAT[i]\n",
    "    seat1 =pd.read_csv(path,header=None,skiprows=80)\n",
    "    head1=pd.read_csv(Ref.IMU_HEAD[i],header=None,skiprows=80)\n",
    "    seat1.columns = list(leg.T.loc[0])\n",
    "    head1.columns = list(leg.T.loc[0])\n",
    "    seat1.drop_duplicates('Timestamp',keep='first',inplace=True) \n",
    "    head1.drop_duplicates('Timestamp',keep='first',inplace=True) \n",
    "    seat1.index=pd.to_datetime(seat1['Timestamp'], unit='s')\n",
    "    seat1.index=seat1.index.round('10ms')\n",
    "    head1.index=pd.to_datetime(head1['Timestamp'], unit='s')\n",
    "    head1.index=head1.index.round('10ms')\n",
    "    seat1 =seat1[(seat1.index >= (Time.index[13])) & (seat1.index<=(Time.index[14])) ]\n",
    "    head1 =head1[(head1.index >= (Time.index[13])) & (head1.index<=(Time.index[14])) ]\n",
    "    seat1 = seat1.loc[:,~seat1.columns.duplicated()]\n",
    "    head1 = head1.loc[:,~head1.columns.duplicated()]\n",
    "    seat1=seat1.resample('10ms').asfreq().interpolate(method='linear', limit_direction='forward', axis=0)\n",
    "    head1=head1.resample('10ms').asfreq().interpolate(method='linear', limit_direction='forward', axis=0)\n",
    "    seat_favourite =seat1[(seat1.index >= (Time.index[7])) & (seat1.index<=(Time.index[8])) ]\n",
    "    seat_metal =seat1[(seat1.index >= (Time.index[11])) & (seat1.index<=(Time.index[12])) ]\n",
    "    head_favourite =head1[(head1.index >= (Time.index[7])) & (head1.index<=(Time.index[8])) ]\n",
    "    head_metal =head1[(head1.index >= (Time.index[11])) & (head1.index<=(Time.index[12])) ]\n",
    "    writer = pd.ExcelWriter(Ref.OUTPUT[i])\n",
    "    seat_favourite.to_excel(writer,'Seat_Favourite')\n",
    "    seat_metal.to_excel(writer,'Seat_Metal')\n",
    "    head_favourite.to_excel(writer,'Head_Favourite')\n",
    "    head_metal.to_excel(writer,'Head_Metal')\n",
    "    writer.save()"
   ]
  },
  {
   "cell_type": "code",
   "execution_count": 2,
   "metadata": {},
   "outputs": [
    {
     "data": {
      "text/plain": [
       "Timestamp('2018-09-11 22:16:03')"
      ]
     },
     "execution_count": 2,
     "metadata": {},
     "output_type": "execute_result"
    }
   ],
   "source": [
    "Time.index[7]"
   ]
  }
 ],
 "metadata": {
  "kernelspec": {
   "display_name": "Python 3",
   "language": "python",
   "name": "python3"
  },
  "language_info": {
   "codemirror_mode": {
    "name": "ipython",
    "version": 3
   },
   "file_extension": ".py",
   "mimetype": "text/x-python",
   "name": "python",
   "nbconvert_exporter": "python",
   "pygments_lexer": "ipython3",
   "version": "3.7.3"
  }
 },
 "nbformat": 4,
 "nbformat_minor": 2
}
