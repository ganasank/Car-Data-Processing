{
 "cells": [
  {
   "cell_type": "code",
   "execution_count": 197,
   "metadata": {},
   "outputs": [],
   "source": [
    "import numpy as np\n",
    "import matplotlib.pyplot as plt\n",
    "import scipy.fftpack\n",
    "from scipy.signal import butter, lfilter, freqz, filtfilt\n",
    "import pandas as pd\n",
    "import xlsxwriter \n",
    "import os\n",
    "import glob as glob \n",
    "import statistics\n",
    "\n",
    "def butter_highpass(cutoff, fs, order=5):\n",
    "    nyq = 0.5 * fs\n",
    "    normal_cutoff = cutoff / nyq\n",
    "    b, a = butter(order, normal_cutoff, btype='high', analog=False)\n",
    "    return b, a\n",
    "\n",
    "def butter_highpass_filter(data, cutoff, fs, order=5):\n",
    "    b, a = butter_highpass(cutoff, fs, order=order)\n",
    "    y = filtfilt(b, a, data)\n",
    "    return y\n",
    "def butter_lowpass(cutoff, fs, order=5):\n",
    "    nyq = 0.5 * fs\n",
    "    normal_cutoff = cutoff / nyq\n",
    "    b, a = butter(order, normal_cutoff, btype='low', analog=False)\n",
    "    return b, a\n",
    "\n",
    "def butter_lowpass_filter(data, cutoff, fs, order=5):\n",
    "    b, a = butter_lowpass(cutoff, fs, order=order)\n",
    "    y = lfilter(b, a, data)\n",
    "    return y\n",
    "\n",
    "def butter_bandpass(lowcut, highcut, fs, order=5):\n",
    "    nyq = 0.5 * fs\n",
    "    low = lowcut / nyq\n",
    "    high = highcut / nyq\n",
    "    b, a = butter(order, [low, high], btype='band')\n",
    "    return b, a\n",
    "\n",
    "\n",
    "def butter_bandpass_filter(data, lowcut, highcut, fs, order=5):\n",
    "    b, a = butter_bandpass(lowcut, highcut, fs, order=order)\n",
    "    y = lfilter(b, a, data)\n",
    "    return y"
   ]
  },
  {
   "cell_type": "code",
   "execution_count": 110,
   "metadata": {},
   "outputs": [
    {
     "name": "stderr",
     "output_type": "stream",
     "text": [
      "/usr/local/lib/python3.5/dist-packages/matplotlib/pyplot.py:514: RuntimeWarning: More than 20 figures have been opened. Figures created through the pyplot interface (`matplotlib.pyplot.figure`) are retained until explicitly closed and may consume too much memory. (To control this warning, see the rcParam `figure.max_open_warning`).\n",
      "  max_open_warning, RuntimeWarning)\n"
     ]
    },
    {
     "ename": "KeyError",
     "evalue": "'Power'",
     "output_type": "error",
     "traceback": [
      "\u001b[0;31m---------------------------------------------------------------------------\u001b[0m",
      "\u001b[0;31mKeyError\u001b[0m                                  Traceback (most recent call last)",
      "\u001b[0;32m/usr/local/lib/python3.5/dist-packages/pandas/core/indexes/base.py\u001b[0m in \u001b[0;36mget_loc\u001b[0;34m(self, key, method, tolerance)\u001b[0m\n\u001b[1;32m   2656\u001b[0m             \u001b[0;32mtry\u001b[0m\u001b[0;34m:\u001b[0m\u001b[0;34m\u001b[0m\u001b[0m\n\u001b[0;32m-> 2657\u001b[0;31m                 \u001b[0;32mreturn\u001b[0m \u001b[0mself\u001b[0m\u001b[0;34m.\u001b[0m\u001b[0m_engine\u001b[0m\u001b[0;34m.\u001b[0m\u001b[0mget_loc\u001b[0m\u001b[0;34m(\u001b[0m\u001b[0mkey\u001b[0m\u001b[0;34m)\u001b[0m\u001b[0;34m\u001b[0m\u001b[0m\n\u001b[0m\u001b[1;32m   2658\u001b[0m             \u001b[0;32mexcept\u001b[0m \u001b[0mKeyError\u001b[0m\u001b[0;34m:\u001b[0m\u001b[0;34m\u001b[0m\u001b[0m\n",
      "\u001b[0;32mpandas/_libs/index.pyx\u001b[0m in \u001b[0;36mpandas._libs.index.IndexEngine.get_loc\u001b[0;34m()\u001b[0m\n",
      "\u001b[0;32mpandas/_libs/index.pyx\u001b[0m in \u001b[0;36mpandas._libs.index.IndexEngine.get_loc\u001b[0;34m()\u001b[0m\n",
      "\u001b[0;32mpandas/_libs/hashtable_class_helper.pxi\u001b[0m in \u001b[0;36mpandas._libs.hashtable.PyObjectHashTable.get_item\u001b[0;34m()\u001b[0m\n",
      "\u001b[0;32mpandas/_libs/hashtable_class_helper.pxi\u001b[0m in \u001b[0;36mpandas._libs.hashtable.PyObjectHashTable.get_item\u001b[0;34m()\u001b[0m\n",
      "\u001b[0;31mKeyError\u001b[0m: 'Power'",
      "\nDuring handling of the above exception, another exception occurred:\n",
      "\u001b[0;31mKeyError\u001b[0m                                  Traceback (most recent call last)",
      "\u001b[0;32m<ipython-input-110-281705e34a6b>\u001b[0m in \u001b[0;36m<module>\u001b[0;34m()\u001b[0m\n\u001b[1;32m    316\u001b[0m \u001b[0mstdev_first_M\u001b[0m\u001b[0;34m=\u001b[0m\u001b[0mnp\u001b[0m\u001b[0;34m.\u001b[0m\u001b[0mempty\u001b[0m\u001b[0;34m(\u001b[0m\u001b[0;34m(\u001b[0m\u001b[0mlen\u001b[0m\u001b[0;34m(\u001b[0m\u001b[0mRD_Data_First\u001b[0m\u001b[0;34m[\u001b[0m\u001b[0;36m0\u001b[0m\u001b[0;34m]\u001b[0m\u001b[0;34m[\u001b[0m\u001b[0;34m(\u001b[0m\u001b[0mRD_Data_First\u001b[0m\u001b[0;34m[\u001b[0m\u001b[0;36m1\u001b[0m\u001b[0;34m]\u001b[0m\u001b[0;34m>\u001b[0m\u001b[0;36m10\u001b[0m\u001b[0;34m)\u001b[0m\u001b[0;34m&\u001b[0m\u001b[0;34m(\u001b[0m\u001b[0mRD_Data_First\u001b[0m\u001b[0;34m[\u001b[0m\u001b[0;36m1\u001b[0m\u001b[0;34m]\u001b[0m\u001b[0;34m<\u001b[0m\u001b[0;36m100\u001b[0m\u001b[0;34m)\u001b[0m\u001b[0;34m]\u001b[0m\u001b[0;34m)\u001b[0m\u001b[0;34m)\u001b[0m\u001b[0;34m)\u001b[0m\u001b[0;34m\u001b[0m\u001b[0m\n\u001b[1;32m    317\u001b[0m \u001b[0;34m\u001b[0m\u001b[0m\n\u001b[0;32m--> 318\u001b[0;31m \u001b[0;32mfor\u001b[0m \u001b[0mi\u001b[0m \u001b[0;32min\u001b[0m \u001b[0mrange\u001b[0m\u001b[0;34m(\u001b[0m\u001b[0mlen\u001b[0m\u001b[0;34m(\u001b[0m\u001b[0mRD\u001b[0m\u001b[0;34m[\u001b[0m\u001b[0;34m'Power'\u001b[0m\u001b[0;34m]\u001b[0m\u001b[0;34m)\u001b[0m\u001b[0;34m)\u001b[0m\u001b[0;34m:\u001b[0m\u001b[0;34m\u001b[0m\u001b[0m\n\u001b[0m\u001b[1;32m    319\u001b[0m     \u001b[0;32mfor\u001b[0m \u001b[0mj\u001b[0m \u001b[0;32min\u001b[0m \u001b[0mrange\u001b[0m\u001b[0;34m(\u001b[0m\u001b[0mlen\u001b[0m\u001b[0;34m(\u001b[0m\u001b[0mchannel\u001b[0m\u001b[0;34m)\u001b[0m\u001b[0;34m)\u001b[0m\u001b[0;34m:\u001b[0m\u001b[0;34m\u001b[0m\u001b[0m\n\u001b[1;32m    320\u001b[0m         \u001b[0mstdev_full_RD\u001b[0m\u001b[0;34m[\u001b[0m\u001b[0mi\u001b[0m\u001b[0;34m,\u001b[0m\u001b[0mj\u001b[0m\u001b[0;34m]\u001b[0m\u001b[0;34m=\u001b[0m\u001b[0mstatistics\u001b[0m\u001b[0;34m.\u001b[0m\u001b[0mstdev\u001b[0m\u001b[0;34m(\u001b[0m\u001b[0mpowerdata_full_RD\u001b[0m\u001b[0;34m[\u001b[0m\u001b[0mi\u001b[0m\u001b[0;34m,\u001b[0m\u001b[0;34m:\u001b[0m\u001b[0;34m,\u001b[0m\u001b[0mj\u001b[0m\u001b[0;34m]\u001b[0m\u001b[0;34m)\u001b[0m\u001b[0;34m\u001b[0m\u001b[0m\n",
      "\u001b[0;32m/usr/local/lib/python3.5/dist-packages/pandas/core/frame.py\u001b[0m in \u001b[0;36m__getitem__\u001b[0;34m(self, key)\u001b[0m\n\u001b[1;32m   2925\u001b[0m             \u001b[0;32mif\u001b[0m \u001b[0mself\u001b[0m\u001b[0;34m.\u001b[0m\u001b[0mcolumns\u001b[0m\u001b[0;34m.\u001b[0m\u001b[0mnlevels\u001b[0m \u001b[0;34m>\u001b[0m \u001b[0;36m1\u001b[0m\u001b[0;34m:\u001b[0m\u001b[0;34m\u001b[0m\u001b[0m\n\u001b[1;32m   2926\u001b[0m                 \u001b[0;32mreturn\u001b[0m \u001b[0mself\u001b[0m\u001b[0;34m.\u001b[0m\u001b[0m_getitem_multilevel\u001b[0m\u001b[0;34m(\u001b[0m\u001b[0mkey\u001b[0m\u001b[0;34m)\u001b[0m\u001b[0;34m\u001b[0m\u001b[0m\n\u001b[0;32m-> 2927\u001b[0;31m             \u001b[0mindexer\u001b[0m \u001b[0;34m=\u001b[0m \u001b[0mself\u001b[0m\u001b[0;34m.\u001b[0m\u001b[0mcolumns\u001b[0m\u001b[0;34m.\u001b[0m\u001b[0mget_loc\u001b[0m\u001b[0;34m(\u001b[0m\u001b[0mkey\u001b[0m\u001b[0;34m)\u001b[0m\u001b[0;34m\u001b[0m\u001b[0m\n\u001b[0m\u001b[1;32m   2928\u001b[0m             \u001b[0;32mif\u001b[0m \u001b[0mis_integer\u001b[0m\u001b[0;34m(\u001b[0m\u001b[0mindexer\u001b[0m\u001b[0;34m)\u001b[0m\u001b[0;34m:\u001b[0m\u001b[0;34m\u001b[0m\u001b[0m\n\u001b[1;32m   2929\u001b[0m                 \u001b[0mindexer\u001b[0m \u001b[0;34m=\u001b[0m \u001b[0;34m[\u001b[0m\u001b[0mindexer\u001b[0m\u001b[0;34m]\u001b[0m\u001b[0;34m\u001b[0m\u001b[0m\n",
      "\u001b[0;32m/usr/local/lib/python3.5/dist-packages/pandas/core/indexes/base.py\u001b[0m in \u001b[0;36mget_loc\u001b[0;34m(self, key, method, tolerance)\u001b[0m\n\u001b[1;32m   2657\u001b[0m                 \u001b[0;32mreturn\u001b[0m \u001b[0mself\u001b[0m\u001b[0;34m.\u001b[0m\u001b[0m_engine\u001b[0m\u001b[0;34m.\u001b[0m\u001b[0mget_loc\u001b[0m\u001b[0;34m(\u001b[0m\u001b[0mkey\u001b[0m\u001b[0;34m)\u001b[0m\u001b[0;34m\u001b[0m\u001b[0m\n\u001b[1;32m   2658\u001b[0m             \u001b[0;32mexcept\u001b[0m \u001b[0mKeyError\u001b[0m\u001b[0;34m:\u001b[0m\u001b[0;34m\u001b[0m\u001b[0m\n\u001b[0;32m-> 2659\u001b[0;31m                 \u001b[0;32mreturn\u001b[0m \u001b[0mself\u001b[0m\u001b[0;34m.\u001b[0m\u001b[0m_engine\u001b[0m\u001b[0;34m.\u001b[0m\u001b[0mget_loc\u001b[0m\u001b[0;34m(\u001b[0m\u001b[0mself\u001b[0m\u001b[0;34m.\u001b[0m\u001b[0m_maybe_cast_indexer\u001b[0m\u001b[0;34m(\u001b[0m\u001b[0mkey\u001b[0m\u001b[0;34m)\u001b[0m\u001b[0;34m)\u001b[0m\u001b[0;34m\u001b[0m\u001b[0m\n\u001b[0m\u001b[1;32m   2660\u001b[0m         \u001b[0mindexer\u001b[0m \u001b[0;34m=\u001b[0m \u001b[0mself\u001b[0m\u001b[0;34m.\u001b[0m\u001b[0mget_indexer\u001b[0m\u001b[0;34m(\u001b[0m\u001b[0;34m[\u001b[0m\u001b[0mkey\u001b[0m\u001b[0;34m]\u001b[0m\u001b[0;34m,\u001b[0m \u001b[0mmethod\u001b[0m\u001b[0;34m=\u001b[0m\u001b[0mmethod\u001b[0m\u001b[0;34m,\u001b[0m \u001b[0mtolerance\u001b[0m\u001b[0;34m=\u001b[0m\u001b[0mtolerance\u001b[0m\u001b[0;34m)\u001b[0m\u001b[0;34m\u001b[0m\u001b[0m\n\u001b[1;32m   2661\u001b[0m         \u001b[0;32mif\u001b[0m \u001b[0mindexer\u001b[0m\u001b[0;34m.\u001b[0m\u001b[0mndim\u001b[0m \u001b[0;34m>\u001b[0m \u001b[0;36m1\u001b[0m \u001b[0;32mor\u001b[0m \u001b[0mindexer\u001b[0m\u001b[0;34m.\u001b[0m\u001b[0msize\u001b[0m \u001b[0;34m>\u001b[0m \u001b[0;36m1\u001b[0m\u001b[0;34m:\u001b[0m\u001b[0;34m\u001b[0m\u001b[0m\n",
      "\u001b[0;32mpandas/_libs/index.pyx\u001b[0m in \u001b[0;36mpandas._libs.index.IndexEngine.get_loc\u001b[0;34m()\u001b[0m\n",
      "\u001b[0;32mpandas/_libs/index.pyx\u001b[0m in \u001b[0;36mpandas._libs.index.IndexEngine.get_loc\u001b[0;34m()\u001b[0m\n",
      "\u001b[0;32mpandas/_libs/hashtable_class_helper.pxi\u001b[0m in \u001b[0;36mpandas._libs.hashtable.PyObjectHashTable.get_item\u001b[0;34m()\u001b[0m\n",
      "\u001b[0;32mpandas/_libs/hashtable_class_helper.pxi\u001b[0m in \u001b[0;36mpandas._libs.hashtable.PyObjectHashTable.get_item\u001b[0;34m()\u001b[0m\n",
      "\u001b[0;31mKeyError\u001b[0m: 'Power'"
     ]
    },
    {
     "data": {
      "text/plain": [
       "<Figure size 432x288 with 0 Axes>"
      ]
     },
     "metadata": {},
     "output_type": "display_data"
    },
    {
     "data": {
      "text/plain": [
       "<Figure size 432x288 with 0 Axes>"
      ]
     },
     "metadata": {},
     "output_type": "display_data"
    },
    {
     "data": {
      "text/plain": [
       "<Figure size 432x288 with 0 Axes>"
      ]
     },
     "metadata": {},
     "output_type": "display_data"
    },
    {
     "data": {
      "text/plain": [
       "<Figure size 432x288 with 0 Axes>"
      ]
     },
     "metadata": {},
     "output_type": "display_data"
    },
    {
     "data": {
      "text/plain": [
       "<Figure size 432x288 with 0 Axes>"
      ]
     },
     "metadata": {},
     "output_type": "display_data"
    },
    {
     "data": {
      "text/plain": [
       "<Figure size 432x288 with 0 Axes>"
      ]
     },
     "metadata": {},
     "output_type": "display_data"
    },
    {
     "data": {
      "text/plain": [
       "<Figure size 432x288 with 0 Axes>"
      ]
     },
     "metadata": {},
     "output_type": "display_data"
    },
    {
     "data": {
      "text/plain": [
       "<Figure size 432x288 with 0 Axes>"
      ]
     },
     "metadata": {},
     "output_type": "display_data"
    },
    {
     "data": {
      "text/plain": [
       "<Figure size 432x288 with 0 Axes>"
      ]
     },
     "metadata": {},
     "output_type": "display_data"
    },
    {
     "data": {
      "text/plain": [
       "<Figure size 432x288 with 0 Axes>"
      ]
     },
     "metadata": {},
     "output_type": "display_data"
    },
    {
     "data": {
      "text/plain": [
       "<Figure size 432x288 with 0 Axes>"
      ]
     },
     "metadata": {},
     "output_type": "display_data"
    },
    {
     "data": {
      "text/plain": [
       "<Figure size 432x288 with 0 Axes>"
      ]
     },
     "metadata": {},
     "output_type": "display_data"
    },
    {
     "data": {
      "text/plain": [
       "<Figure size 432x288 with 0 Axes>"
      ]
     },
     "metadata": {},
     "output_type": "display_data"
    },
    {
     "data": {
      "text/plain": [
       "<Figure size 432x288 with 0 Axes>"
      ]
     },
     "metadata": {},
     "output_type": "display_data"
    },
    {
     "data": {
      "text/plain": [
       "<Figure size 432x288 with 0 Axes>"
      ]
     },
     "metadata": {},
     "output_type": "display_data"
    },
    {
     "data": {
      "text/plain": [
       "<Figure size 432x288 with 0 Axes>"
      ]
     },
     "metadata": {},
     "output_type": "display_data"
    },
    {
     "data": {
      "text/plain": [
       "<Figure size 432x288 with 0 Axes>"
      ]
     },
     "metadata": {},
     "output_type": "display_data"
    },
    {
     "data": {
      "text/plain": [
       "<Figure size 432x288 with 0 Axes>"
      ]
     },
     "metadata": {},
     "output_type": "display_data"
    },
    {
     "data": {
      "text/plain": [
       "<Figure size 432x288 with 0 Axes>"
      ]
     },
     "metadata": {},
     "output_type": "display_data"
    },
    {
     "data": {
      "text/plain": [
       "<Figure size 432x288 with 0 Axes>"
      ]
     },
     "metadata": {},
     "output_type": "display_data"
    },
    {
     "data": {
      "text/plain": [
       "<Figure size 432x288 with 0 Axes>"
      ]
     },
     "metadata": {},
     "output_type": "display_data"
    },
    {
     "data": {
      "text/plain": [
       "<Figure size 432x288 with 0 Axes>"
      ]
     },
     "metadata": {},
     "output_type": "display_data"
    },
    {
     "data": {
      "text/plain": [
       "<Figure size 432x288 with 0 Axes>"
      ]
     },
     "metadata": {},
     "output_type": "display_data"
    },
    {
     "data": {
      "text/plain": [
       "<Figure size 432x288 with 0 Axes>"
      ]
     },
     "metadata": {},
     "output_type": "display_data"
    },
    {
     "data": {
      "text/plain": [
       "<Figure size 432x288 with 0 Axes>"
      ]
     },
     "metadata": {},
     "output_type": "display_data"
    },
    {
     "data": {
      "text/plain": [
       "<Figure size 432x288 with 0 Axes>"
      ]
     },
     "metadata": {},
     "output_type": "display_data"
    },
    {
     "data": {
      "text/plain": [
       "<Figure size 432x288 with 0 Axes>"
      ]
     },
     "metadata": {},
     "output_type": "display_data"
    },
    {
     "data": {
      "text/plain": [
       "<Figure size 432x288 with 0 Axes>"
      ]
     },
     "metadata": {},
     "output_type": "display_data"
    },
    {
     "data": {
      "text/plain": [
       "<Figure size 432x288 with 0 Axes>"
      ]
     },
     "metadata": {},
     "output_type": "display_data"
    },
    {
     "data": {
      "text/plain": [
       "<Figure size 432x288 with 0 Axes>"
      ]
     },
     "metadata": {},
     "output_type": "display_data"
    },
    {
     "data": {
      "text/plain": [
       "<Figure size 432x288 with 0 Axes>"
      ]
     },
     "metadata": {},
     "output_type": "display_data"
    },
    {
     "data": {
      "text/plain": [
       "<Figure size 432x288 with 0 Axes>"
      ]
     },
     "metadata": {},
     "output_type": "display_data"
    },
    {
     "data": {
      "text/plain": [
       "<Figure size 432x288 with 0 Axes>"
      ]
     },
     "metadata": {},
     "output_type": "display_data"
    },
    {
     "data": {
      "text/plain": [
       "<Figure size 432x288 with 0 Axes>"
      ]
     },
     "metadata": {},
     "output_type": "display_data"
    },
    {
     "data": {
      "text/plain": [
       "<Figure size 432x288 with 0 Axes>"
      ]
     },
     "metadata": {},
     "output_type": "display_data"
    },
    {
     "data": {
      "text/plain": [
       "<Figure size 432x288 with 0 Axes>"
      ]
     },
     "metadata": {},
     "output_type": "display_data"
    },
    {
     "data": {
      "text/plain": [
       "<Figure size 432x288 with 0 Axes>"
      ]
     },
     "metadata": {},
     "output_type": "display_data"
    },
    {
     "data": {
      "text/plain": [
       "<Figure size 432x288 with 0 Axes>"
      ]
     },
     "metadata": {},
     "output_type": "display_data"
    },
    {
     "data": {
      "text/plain": [
       "<Figure size 432x288 with 0 Axes>"
      ]
     },
     "metadata": {},
     "output_type": "display_data"
    },
    {
     "data": {
      "text/plain": [
       "<Figure size 432x288 with 0 Axes>"
      ]
     },
     "metadata": {},
     "output_type": "display_data"
    },
    {
     "data": {
      "text/plain": [
       "<Figure size 432x288 with 0 Axes>"
      ]
     },
     "metadata": {},
     "output_type": "display_data"
    },
    {
     "data": {
      "text/plain": [
       "<Figure size 432x288 with 0 Axes>"
      ]
     },
     "metadata": {},
     "output_type": "display_data"
    },
    {
     "data": {
      "text/plain": [
       "<Figure size 432x288 with 0 Axes>"
      ]
     },
     "metadata": {},
     "output_type": "display_data"
    },
    {
     "data": {
      "text/plain": [
       "<Figure size 432x288 with 0 Axes>"
      ]
     },
     "metadata": {},
     "output_type": "display_data"
    },
    {
     "data": {
      "text/plain": [
       "<Figure size 432x288 with 0 Axes>"
      ]
     },
     "metadata": {},
     "output_type": "display_data"
    },
    {
     "data": {
      "text/plain": [
       "<Figure size 432x288 with 0 Axes>"
      ]
     },
     "metadata": {},
     "output_type": "display_data"
    },
    {
     "data": {
      "text/plain": [
       "<Figure size 432x288 with 0 Axes>"
      ]
     },
     "metadata": {},
     "output_type": "display_data"
    },
    {
     "data": {
      "text/plain": [
       "<Figure size 432x288 with 0 Axes>"
      ]
     },
     "metadata": {},
     "output_type": "display_data"
    },
    {
     "data": {
      "text/plain": [
       "<Figure size 432x288 with 0 Axes>"
      ]
     },
     "metadata": {},
     "output_type": "display_data"
    },
    {
     "data": {
      "text/plain": [
       "<Figure size 432x288 with 0 Axes>"
      ]
     },
     "metadata": {},
     "output_type": "display_data"
    },
    {
     "data": {
      "text/plain": [
       "<Figure size 432x288 with 0 Axes>"
      ]
     },
     "metadata": {},
     "output_type": "display_data"
    },
    {
     "data": {
      "text/plain": [
       "<Figure size 432x288 with 0 Axes>"
      ]
     },
     "metadata": {},
     "output_type": "display_data"
    },
    {
     "data": {
      "text/plain": [
       "<Figure size 432x288 with 0 Axes>"
      ]
     },
     "metadata": {},
     "output_type": "display_data"
    },
    {
     "data": {
      "text/plain": [
       "<Figure size 432x288 with 0 Axes>"
      ]
     },
     "metadata": {},
     "output_type": "display_data"
    },
    {
     "data": {
      "text/plain": [
       "<Figure size 432x288 with 0 Axes>"
      ]
     },
     "metadata": {},
     "output_type": "display_data"
    },
    {
     "data": {
      "text/plain": [
       "<Figure size 432x288 with 0 Axes>"
      ]
     },
     "metadata": {},
     "output_type": "display_data"
    },
    {
     "data": {
      "text/plain": [
       "<Figure size 432x288 with 0 Axes>"
      ]
     },
     "metadata": {},
     "output_type": "display_data"
    },
    {
     "data": {
      "text/plain": [
       "<Figure size 432x288 with 0 Axes>"
      ]
     },
     "metadata": {},
     "output_type": "display_data"
    },
    {
     "data": {
      "text/plain": [
       "<Figure size 432x288 with 0 Axes>"
      ]
     },
     "metadata": {},
     "output_type": "display_data"
    },
    {
     "data": {
      "text/plain": [
       "<Figure size 432x288 with 0 Axes>"
      ]
     },
     "metadata": {},
     "output_type": "display_data"
    },
    {
     "data": {
      "text/plain": [
       "<Figure size 432x288 with 0 Axes>"
      ]
     },
     "metadata": {},
     "output_type": "display_data"
    },
    {
     "data": {
      "text/plain": [
       "<Figure size 432x288 with 0 Axes>"
      ]
     },
     "metadata": {},
     "output_type": "display_data"
    },
    {
     "data": {
      "text/plain": [
       "<Figure size 432x288 with 0 Axes>"
      ]
     },
     "metadata": {},
     "output_type": "display_data"
    },
    {
     "data": {
      "text/plain": [
       "<Figure size 432x288 with 0 Axes>"
      ]
     },
     "metadata": {},
     "output_type": "display_data"
    },
    {
     "data": {
      "text/plain": [
       "<Figure size 432x288 with 0 Axes>"
      ]
     },
     "metadata": {},
     "output_type": "display_data"
    },
    {
     "data": {
      "text/plain": [
       "<Figure size 432x288 with 0 Axes>"
      ]
     },
     "metadata": {},
     "output_type": "display_data"
    },
    {
     "data": {
      "text/plain": [
       "<Figure size 432x288 with 0 Axes>"
      ]
     },
     "metadata": {},
     "output_type": "display_data"
    },
    {
     "data": {
      "text/plain": [
       "<Figure size 432x288 with 0 Axes>"
      ]
     },
     "metadata": {},
     "output_type": "display_data"
    },
    {
     "data": {
      "text/plain": [
       "<Figure size 432x288 with 0 Axes>"
      ]
     },
     "metadata": {},
     "output_type": "display_data"
    },
    {
     "data": {
      "text/plain": [
       "<Figure size 432x288 with 0 Axes>"
      ]
     },
     "metadata": {},
     "output_type": "display_data"
    },
    {
     "data": {
      "text/plain": [
       "<Figure size 432x288 with 0 Axes>"
      ]
     },
     "metadata": {},
     "output_type": "display_data"
    },
    {
     "data": {
      "text/plain": [
       "<Figure size 432x288 with 0 Axes>"
      ]
     },
     "metadata": {},
     "output_type": "display_data"
    },
    {
     "data": {
      "text/plain": [
       "<Figure size 432x288 with 0 Axes>"
      ]
     },
     "metadata": {},
     "output_type": "display_data"
    },
    {
     "data": {
      "text/plain": [
       "<Figure size 432x288 with 0 Axes>"
      ]
     },
     "metadata": {},
     "output_type": "display_data"
    },
    {
     "data": {
      "text/plain": [
       "<Figure size 432x288 with 0 Axes>"
      ]
     },
     "metadata": {},
     "output_type": "display_data"
    },
    {
     "data": {
      "text/plain": [
       "<Figure size 432x288 with 0 Axes>"
      ]
     },
     "metadata": {},
     "output_type": "display_data"
    },
    {
     "data": {
      "text/plain": [
       "<Figure size 432x288 with 0 Axes>"
      ]
     },
     "metadata": {},
     "output_type": "display_data"
    },
    {
     "data": {
      "text/plain": [
       "<Figure size 432x288 with 0 Axes>"
      ]
     },
     "metadata": {},
     "output_type": "display_data"
    },
    {
     "data": {
      "text/plain": [
       "<Figure size 432x288 with 0 Axes>"
      ]
     },
     "metadata": {},
     "output_type": "display_data"
    },
    {
     "data": {
      "text/plain": [
       "<Figure size 432x288 with 0 Axes>"
      ]
     },
     "metadata": {},
     "output_type": "display_data"
    },
    {
     "data": {
      "text/plain": [
       "<Figure size 432x288 with 0 Axes>"
      ]
     },
     "metadata": {},
     "output_type": "display_data"
    },
    {
     "data": {
      "text/plain": [
       "<Figure size 432x288 with 0 Axes>"
      ]
     },
     "metadata": {},
     "output_type": "display_data"
    },
    {
     "data": {
      "text/plain": [
       "<Figure size 432x288 with 0 Axes>"
      ]
     },
     "metadata": {},
     "output_type": "display_data"
    },
    {
     "data": {
      "text/plain": [
       "<Figure size 432x288 with 0 Axes>"
      ]
     },
     "metadata": {},
     "output_type": "display_data"
    },
    {
     "data": {
      "text/plain": [
       "<Figure size 432x288 with 0 Axes>"
      ]
     },
     "metadata": {},
     "output_type": "display_data"
    },
    {
     "data": {
      "text/plain": [
       "<Figure size 432x288 with 0 Axes>"
      ]
     },
     "metadata": {},
     "output_type": "display_data"
    },
    {
     "data": {
      "text/plain": [
       "<Figure size 432x288 with 0 Axes>"
      ]
     },
     "metadata": {},
     "output_type": "display_data"
    },
    {
     "data": {
      "text/plain": [
       "<Figure size 432x288 with 0 Axes>"
      ]
     },
     "metadata": {},
     "output_type": "display_data"
    },
    {
     "data": {
      "text/plain": [
       "<Figure size 432x288 with 0 Axes>"
      ]
     },
     "metadata": {},
     "output_type": "display_data"
    },
    {
     "data": {
      "text/plain": [
       "<Figure size 432x288 with 0 Axes>"
      ]
     },
     "metadata": {},
     "output_type": "display_data"
    },
    {
     "data": {
      "text/plain": [
       "<Figure size 432x288 with 0 Axes>"
      ]
     },
     "metadata": {},
     "output_type": "display_data"
    },
    {
     "data": {
      "text/plain": [
       "<Figure size 432x288 with 0 Axes>"
      ]
     },
     "metadata": {},
     "output_type": "display_data"
    },
    {
     "data": {
      "text/plain": [
       "<Figure size 432x288 with 0 Axes>"
      ]
     },
     "metadata": {},
     "output_type": "display_data"
    },
    {
     "data": {
      "text/plain": [
       "<Figure size 432x288 with 0 Axes>"
      ]
     },
     "metadata": {},
     "output_type": "display_data"
    },
    {
     "data": {
      "text/plain": [
       "<Figure size 432x288 with 0 Axes>"
      ]
     },
     "metadata": {},
     "output_type": "display_data"
    },
    {
     "data": {
      "text/plain": [
       "<Figure size 432x288 with 0 Axes>"
      ]
     },
     "metadata": {},
     "output_type": "display_data"
    },
    {
     "data": {
      "text/plain": [
       "<Figure size 432x288 with 0 Axes>"
      ]
     },
     "metadata": {},
     "output_type": "display_data"
    },
    {
     "data": {
      "text/plain": [
       "<Figure size 432x288 with 0 Axes>"
      ]
     },
     "metadata": {},
     "output_type": "display_data"
    },
    {
     "data": {
      "text/plain": [
       "<Figure size 432x288 with 0 Axes>"
      ]
     },
     "metadata": {},
     "output_type": "display_data"
    },
    {
     "data": {
      "text/plain": [
       "<Figure size 432x288 with 0 Axes>"
      ]
     },
     "metadata": {},
     "output_type": "display_data"
    },
    {
     "data": {
      "text/plain": [
       "<Figure size 432x288 with 0 Axes>"
      ]
     },
     "metadata": {},
     "output_type": "display_data"
    },
    {
     "data": {
      "text/plain": [
       "<Figure size 432x288 with 0 Axes>"
      ]
     },
     "metadata": {},
     "output_type": "display_data"
    },
    {
     "data": {
      "text/plain": [
       "<Figure size 432x288 with 0 Axes>"
      ]
     },
     "metadata": {},
     "output_type": "display_data"
    },
    {
     "data": {
      "text/plain": [
       "<Figure size 432x288 with 0 Axes>"
      ]
     },
     "metadata": {},
     "output_type": "display_data"
    },
    {
     "data": {
      "text/plain": [
       "<Figure size 432x288 with 0 Axes>"
      ]
     },
     "metadata": {},
     "output_type": "display_data"
    },
    {
     "data": {
      "text/plain": [
       "<Figure size 432x288 with 0 Axes>"
      ]
     },
     "metadata": {},
     "output_type": "display_data"
    },
    {
     "data": {
      "text/plain": [
       "<Figure size 432x288 with 0 Axes>"
      ]
     },
     "metadata": {},
     "output_type": "display_data"
    },
    {
     "data": {
      "text/plain": [
       "<Figure size 432x288 with 0 Axes>"
      ]
     },
     "metadata": {},
     "output_type": "display_data"
    },
    {
     "data": {
      "text/plain": [
       "<Figure size 432x288 with 0 Axes>"
      ]
     },
     "metadata": {},
     "output_type": "display_data"
    },
    {
     "data": {
      "text/plain": [
       "<Figure size 432x288 with 0 Axes>"
      ]
     },
     "metadata": {},
     "output_type": "display_data"
    },
    {
     "data": {
      "text/plain": [
       "<Figure size 432x288 with 0 Axes>"
      ]
     },
     "metadata": {},
     "output_type": "display_data"
    },
    {
     "data": {
      "text/plain": [
       "<Figure size 432x288 with 0 Axes>"
      ]
     },
     "metadata": {},
     "output_type": "display_data"
    },
    {
     "data": {
      "text/plain": [
       "<Figure size 432x288 with 0 Axes>"
      ]
     },
     "metadata": {},
     "output_type": "display_data"
    },
    {
     "data": {
      "text/plain": [
       "<Figure size 432x288 with 0 Axes>"
      ]
     },
     "metadata": {},
     "output_type": "display_data"
    },
    {
     "data": {
      "text/plain": [
       "<Figure size 432x288 with 0 Axes>"
      ]
     },
     "metadata": {},
     "output_type": "display_data"
    },
    {
     "data": {
      "text/plain": [
       "<Figure size 432x288 with 0 Axes>"
      ]
     },
     "metadata": {},
     "output_type": "display_data"
    },
    {
     "data": {
      "text/plain": [
       "<Figure size 432x288 with 0 Axes>"
      ]
     },
     "metadata": {},
     "output_type": "display_data"
    },
    {
     "data": {
      "text/plain": [
       "<Figure size 432x288 with 0 Axes>"
      ]
     },
     "metadata": {},
     "output_type": "display_data"
    },
    {
     "data": {
      "text/plain": [
       "<Figure size 432x288 with 0 Axes>"
      ]
     },
     "metadata": {},
     "output_type": "display_data"
    },
    {
     "data": {
      "text/plain": [
       "<Figure size 432x288 with 0 Axes>"
      ]
     },
     "metadata": {},
     "output_type": "display_data"
    },
    {
     "data": {
      "text/plain": [
       "<Figure size 432x288 with 0 Axes>"
      ]
     },
     "metadata": {},
     "output_type": "display_data"
    },
    {
     "data": {
      "text/plain": [
       "<Figure size 432x288 with 0 Axes>"
      ]
     },
     "metadata": {},
     "output_type": "display_data"
    },
    {
     "data": {
      "text/plain": [
       "<Figure size 432x288 with 0 Axes>"
      ]
     },
     "metadata": {},
     "output_type": "display_data"
    },
    {
     "data": {
      "text/plain": [
       "<Figure size 432x288 with 0 Axes>"
      ]
     },
     "metadata": {},
     "output_type": "display_data"
    },
    {
     "data": {
      "text/plain": [
       "<Figure size 432x288 with 0 Axes>"
      ]
     },
     "metadata": {},
     "output_type": "display_data"
    },
    {
     "data": {
      "text/plain": [
       "<Figure size 432x288 with 0 Axes>"
      ]
     },
     "metadata": {},
     "output_type": "display_data"
    },
    {
     "data": {
      "text/plain": [
       "<Figure size 432x288 with 0 Axes>"
      ]
     },
     "metadata": {},
     "output_type": "display_data"
    },
    {
     "data": {
      "text/plain": [
       "<Figure size 432x288 with 0 Axes>"
      ]
     },
     "metadata": {},
     "output_type": "display_data"
    },
    {
     "data": {
      "text/plain": [
       "<Figure size 432x288 with 0 Axes>"
      ]
     },
     "metadata": {},
     "output_type": "display_data"
    },
    {
     "data": {
      "text/plain": [
       "<Figure size 432x288 with 0 Axes>"
      ]
     },
     "metadata": {},
     "output_type": "display_data"
    },
    {
     "data": {
      "text/plain": [
       "<Figure size 432x288 with 0 Axes>"
      ]
     },
     "metadata": {},
     "output_type": "display_data"
    },
    {
     "data": {
      "text/plain": [
       "<Figure size 432x288 with 0 Axes>"
      ]
     },
     "metadata": {},
     "output_type": "display_data"
    }
   ],
   "source": [
    "#Full reads first 7 mins of data as min time is 8 mins\n",
    "\n",
    "\n",
    "#Creating Directories\n",
    "\n",
    "if not os.path.isdir('EMG_Spectrogram'):\n",
    "    os.mkdir('EMG_Spectrogram')\n",
    "if not os.path.isdir('EMG_Spectrogram/PSD_Data_Full'):\n",
    "    os.mkdir('EMG_Spectrogram/PSD_Data_Full')\n",
    "if not os.path.isdir('EMG_Spectrogram/Plots_Full'):\n",
    "    os.mkdir('EMG_Spectrogram/Plots_Full')\n",
    "if not os.path.isdir('EMG_Spectrogram/PSD_Data_First'):\n",
    "    os.mkdir('EMG_Spectrogram/PSD_Data_First')\n",
    "if not os.path.isdir('EMG_Spectrogram/Plots_First'):\n",
    "    os.mkdir('EMG_Spectrogram/Plots_First')\n",
    "    \n",
    "    \n",
    "#Sheet Names for reading from files\n",
    "sheets=['Rel_Dri','Str_Dri','Cal','Math']\n",
    "\n",
    "#List of files to be read\n",
    "dir_list = glob.glob('EMG_Filtered_Split/*.xlsx')\n",
    "dir_list.sort()\n",
    "\n",
    "#File for writing final output\n",
    "workbook_full = xlsxwriter.Workbook('EMG_Spectrogram/PSD_Data_Full/EMG_PSD_data_Full.xlsx') \n",
    "workbook_first = xlsxwriter.Workbook('EMG_Spectrogram/PSD_Data_First/EMG_PSD_data_First.xlsx') \n",
    "bold = workbook_full.add_format({'bold': True})\n",
    "bold = workbook_first.add_format({'bold': True})\n",
    "row=0\n",
    "\n",
    "#Name and col ref to channels\n",
    "channel=['C1','C2']\n",
    "col={'C1':2,'C2':3}\n",
    "\n",
    "\n",
    "for i in range(len(dir_list)):\n",
    "    #creating save path for fig and file for full data\n",
    "    savefigpath_full=dir_list[i].replace('EMG_Filtered_Split','EMG_Spectrogram/Plots_Full')\n",
    "    filepath_full=dir_list[i].replace('EMG_Filtered_Split','EMG_Spectrogram/PSD_Data_Full')\n",
    "    filepath_full=filepath_full.replace('.xlsx','_Full_PSD.xlsx')\n",
    "    savefigpath_full=savefigpath_full.replace('.xlsx','_Full_')\n",
    "    \n",
    "    #paths for first min files\n",
    "    savefigpath_first=dir_list[i].replace('EMG_Filtered_Split','EMG_Spectrogram/Plots_First')\n",
    "    filepath_first=dir_list[i].replace('EMG_Filtered_Split','EMG_Spectrogram/PSD_Data_First')\n",
    "    filepath_first=filepath_first.replace('.xlsx','_First_PSD.xlsx')\n",
    "    savefigpath_first=savefigpath_first.replace('.xlsx','_First_')\n",
    "    \n",
    "    #participant name information\n",
    "    partname=dir_list[i].replace('EMG_Filtered_Split','')\n",
    "    partname=partname.replace('.xlsx','')\n",
    "    \n",
    "    #Excel writer for full and first min files\n",
    "    writer_full = pd.ExcelWriter(filepath_full)\n",
    "    writer_first = pd.ExcelWriter(filepath_first)\n",
    "    \n",
    "    RD = pd.read_excel(dir_list[i], sheets[0],header=0)\n",
    "    SD = pd.read_excel(dir_list[i], sheets[1],header=0)\n",
    "    C = pd.read_excel(dir_list[i], sheets[2],header=0)\n",
    "    M = pd.read_excel(dir_list[i], sheets[3],header=0)\n",
    "\n",
    "    \n",
    "        \n",
    "    #For loop for looping through the 2 channels\n",
    "    for j in range(len(channel)):        \n",
    "        \n",
    "        fig=plt.figure()\n",
    "        #Doing PSD on the Full data and plotting it\n",
    "        RD_Data=plt.psd(RD[RD.columns[col[channel[j]]]][:7*60*512], Fs=512,color='b',label='Relaxed_Driving')\n",
    "        SD_Data=plt.psd(SD[SD.columns[col[channel[j]]]][:7*60*512], Fs=512,color='r',label='Stressed_Driving')\n",
    "        plt.xlim((10,100))\n",
    "        plt.legend()\n",
    "        plt.savefig(savefigpath_full+channel[j]+'_Driv.png')\n",
    "        plt.clf()\n",
    "        plt.figure()\n",
    "        C_Data=plt.psd(C[C.columns[col[channel[j]]]][:7*60*512], Fs=512,color='b',label='Calm')\n",
    "        M_Data=plt.psd(M[M.columns[col[channel[j]]]][:7*60*512], Fs=512,color='r',label='Math')\n",
    "        plt.legend()\n",
    "        plt.savefig(savefigpath_full+channel[j]+'_Cond.png')\n",
    "        plt.clf()\n",
    "\n",
    "        if workbook_full.get_worksheet_by_name(channel[j]):\n",
    "            worksheet_full=workbook_full.get_worksheet_by_name(channel[j])\n",
    "        else:\n",
    "            worksheet_full = workbook_full.add_worksheet(channel[j])\n",
    "            row=0\n",
    "            worksheet_full.write(row,0,'Participant',bold)\n",
    "            worksheet_full.write(row,1,'MPF_Stressed_Driving',bold)\n",
    "            worksheet_full.write(row,2,'MPF_Relaxed_Driving',bold)\n",
    "            worksheet_full.write(row,3,'(MPF_Rel-MPF_Str)',bold)\n",
    "            worksheet_full.write(row,4,'Area_Str',bold)\n",
    "            worksheet_full.write(row,5,'Area_Rel',bold)\n",
    "            worksheet_full.write(row,6,'Max_Power_Str',bold)\n",
    "            worksheet_full.write(row,7,'Dom_Freq_Str',bold)\n",
    "            worksheet_full.write(row,8,'Max_Power_Rel',bold)\n",
    "            worksheet_full.write(row,9,'Dom_Freq_Rel',bold)\n",
    "\n",
    "            worksheet_full.write(row,11,'Participant',bold)\n",
    "            worksheet_full.write(row,12,'MPF_Math_Driving',bold)\n",
    "            worksheet_full.write(row,13,'MPF_Calm_Driving',bold)\n",
    "            worksheet_full.write(row,14,'(MPF_Calm-Math_Str)',bold)\n",
    "            worksheet_full.write(row,15,'Area_Math',bold)\n",
    "            worksheet_full.write(row,16,'Area_Calm',bold)\n",
    "            worksheet_full.write(row,17,'Max_Power_Math',bold)\n",
    "            worksheet_full.write(row,18,'Dom_Freq_Math',bold)\n",
    "            worksheet_full.write(row,19,'Max_Power_Calm',bold)\n",
    "            worksheet_full.write(row,20,'Dom_Freq_Calm',bold)\n",
    "            \n",
    "            powerdata_full_RD=np.empty((len(RD_Data[0][(RD_Data[1]>10)&(RD_Data[1]<100)]),len(dir_list),len(channel)))\n",
    "            powerdata_full_SD=np.empty((len(RD_Data[0][(RD_Data[1]>10)&(RD_Data[1]<100)]),len(dir_list),len(channel)))\n",
    "            powerdata_full_C=np.empty((len(RD_Data[0][(RD_Data[1]>10)&(RD_Data[1]<100)]),len(dir_list),len(channel)))\n",
    "            powerdata_full_M=np.empty((len(RD_Data[0][(RD_Data[1]>10)&(RD_Data[1]<100)]),len(dir_list),len(channel)))\n",
    "        \n",
    "        \n",
    "        #Doing PSD on the first min data and plotting it\n",
    "        RD_Data_First=plt.psd(RD[RD.columns[col[channel[j]]]][:60*512], Fs=512,color='b',label='Relaxed_Driving')\n",
    "        SD_Data_First=plt.psd(SD[SD.columns[col[channel[j]]]][:60*512], Fs=512,color='r',label='Stressed_Driving')\n",
    "        plt.xlim((10,100))\n",
    "        plt.legend()\n",
    "        plt.savefig(savefigpath_first+channel[j]+'_Driv.png')\n",
    "        plt.clf()\n",
    "        plt.figure()\n",
    "        C_Data_First=plt.psd(C[C.columns[col[channel[j]]]][:60*512], Fs=512,color='b',label='Calm')\n",
    "        M_Data_First=plt.psd(M[M.columns[col[channel[j]]]][:60*512], Fs=512,color='r',label='Math')\n",
    "        plt.legend()\n",
    "        plt.savefig(savefigpath_first+channel[j]+'_Cond.png')\n",
    "        plt.clf()\n",
    "        \n",
    "        \n",
    "        \n",
    "        if workbook_first.get_worksheet_by_name(channel[j]):\n",
    "                worksheet_first=workbook_first.get_worksheet_by_name(channel[j])\n",
    "        else:\n",
    "            worksheet_first = workbook_first.add_worksheet(channel[j])\n",
    "            row=0\n",
    "            worksheet_first.write(row,0,'Participant',bold)\n",
    "            worksheet_first.write(row,1,'MPF_Stressed_Driving',bold)\n",
    "            worksheet_first.write(row,2,'MPF_Relaxed_Driving',bold)\n",
    "            worksheet_first.write(row,3,'(MPF_Rel-MPF_Str)',bold)\n",
    "            worksheet_first.write(row,4,'Area_Str',bold)\n",
    "            worksheet_first.write(row,5,'Area_Rel',bold)\n",
    "            worksheet_first.write(row,6,'Max_Power_Str',bold)\n",
    "            worksheet_first.write(row,7,'Dom_Freq_Str',bold)\n",
    "            worksheet_first.write(row,8,'Max_Power_Rel',bold)\n",
    "            worksheet_first.write(row,9,'Dom_Freq_Rel',bold)\n",
    "\n",
    "            worksheet_first.write(row,11,'Participant',bold)\n",
    "            worksheet_first.write(row,12,'MPF_Math_Driving',bold)\n",
    "            worksheet_first.write(row,13,'MPF_Calm_Driving',bold)\n",
    "            worksheet_first.write(row,14,'(MPF_Calm-Math_Str)',bold)\n",
    "            worksheet_first.write(row,15,'Area_Math',bold)\n",
    "            worksheet_first.write(row,16,'Area_Calm',bold)\n",
    "            worksheet_first.write(row,17,'Max_Power_Math',bold)\n",
    "            worksheet_first.write(row,18,'Dom_Freq_Math',bold)\n",
    "            worksheet_first.write(row,19,'Max_Power_Calm',bold)\n",
    "            worksheet_first.write(row,20,'Dom_Freq_Calm',bold)\n",
    "            \n",
    "            powerdata_first_RD=np.empty((len(RD_Data_First[0][(RD_Data_First[1]>10)&(RD_Data_First[1]<100)]),len(dir_list),len(channel)))\n",
    "            powerdata_first_SD=np.empty((len(RD_Data_First[0][(RD_Data_First[1]>10)&(RD_Data_First[1]<100)]),len(dir_list),len(channel)))\n",
    "            powerdata_first_C=np.empty((len(RD_Data_First[0][(RD_Data_First[1]>10)&(RD_Data_First[1]<100)]),len(dir_list),len(channel)))\n",
    "            powerdata_first_M=np.empty((len(RD_Data_First[0][(RD_Data_First[1]>10)&(RD_Data_First[1]<100)]),len(dir_list),len(channel)))\n",
    "            row+=1\n",
    "            \n",
    "        \n",
    "        \n",
    "\n",
    "        \n",
    "        \n",
    "        \n",
    "        #Convert values to decibels for Power\n",
    "        \"\"\"\n",
    "        For First minute Data\n",
    "        Conversion to log and calculating parameters \n",
    "        Saving to excel file\n",
    "        \"\"\"\n",
    "        RD_Data=list(RD_Data)\n",
    "        SD_Data=list(SD_Data)\n",
    "        C_Data=list(C_Data)\n",
    "        M_Data=list(M_Data)\n",
    "        RD_Data[0]=10*np.log10(RD_Data[0])\n",
    "        SD_Data[0]=10*np.log10(SD_Data[0])\n",
    "        C_Data[0]=10*np.log10(C_Data[0])\n",
    "        M_Data[0]=10*np.log10(M_Data[0])\n",
    "        \n",
    "        MPF_RD=np.linalg.norm(np.multiply(RD_Data[0][(RD_Data[1]>10)&(RD_Data[1]<100)],RD_Data[1][(RD_Data[1]>10)&(RD_Data[1]<100)]),1)/np.linalg.norm(RD_Data[0][(RD_Data[1]>10)&(RD_Data[1]<100)],1)\n",
    "        MPF_SD=np.linalg.norm(np.multiply(SD_Data[0][(SD_Data[1]>10)&(SD_Data[1]<100)],SD_Data[1][(SD_Data[1]>10)&(SD_Data[1]<100)]),1)/np.linalg.norm(SD_Data[0][(SD_Data[1]>10)&(SD_Data[1]<100)],1)\n",
    "        MPF_C=np.linalg.norm(np.multiply(C_Data[0][(C_Data[1]>10)&(C_Data[1]<100)],C_Data[1][(C_Data[1]>10)&(C_Data[1]<100)]),1)/np.linalg.norm(C_Data[0][(C_Data[1]>10)&(C_Data[1]<100)],1)\n",
    "        MPF_M=np.linalg.norm(np.multiply(M_Data[0][(M_Data[1]>10)&(M_Data[1]<100)],M_Data[1][(M_Data[1]>10)&(M_Data[1]<100)]),1)/np.linalg.norm(M_Data[0][(M_Data[1]>10)&(M_Data[1]<100)],1)\n",
    "        \n",
    "        Math_PSD_DATA=pd.DataFrame({'freq':M_Data[1][(M_Data[1]>10)&(M_Data[1]<100)],'Power':M_Data[0][(M_Data[1]>10)&(M_Data[1]<100)]})\n",
    "        Calm_PSD_DATA=pd.DataFrame({'freq':C_Data[1][(C_Data[1]>10)&(C_Data[1]<100)],'Power':C_Data[0][(C_Data[1]>10)&(C_Data[1]<100)]})\n",
    "        RD_PSD_DATA=pd.DataFrame({'freq':RD_Data[1][(RD_Data[1]>10)&(RD_Data[1]<100)],'Power':RD_Data[0][(RD_Data[1]>10)&(RD_Data[1]<100)]})\n",
    "        SD_PSD_DATA=pd.DataFrame({'freq':SD_Data[1][(SD_Data[1]>10)&(SD_Data[1]<100)],'Power':SD_Data[0][(SD_Data[1]>10)&(SD_Data[1]<100)]})\n",
    "        SD_PSD_DATA.to_excel(writer_full,'Stressed_Drive_'+channel[j])\n",
    "        RD_PSD_DATA.to_excel(writer_full,'Relaxed_Drive_'+channel[j])\n",
    "        Math_PSD_DATA.to_excel(writer_full,'Math_'+channel[j])\n",
    "        Calm_PSD_DATA.to_excel(writer_full,'Calm_'+channel[j])\n",
    "\n",
    "        \n",
    "        \n",
    "        worksheet_full.write(row,0,partname)\n",
    "        worksheet_full.write(row,1,MPF_SD)\n",
    "        worksheet_full.write(row,2,MPF_RD)\n",
    "        worksheet_full.write(row,3,(MPF_RD-MPF_SD))\n",
    "        worksheet_full.write(row,4,np.linalg.norm(np.multiply(SD_Data[0][(SD_Data[1]>10)&(SD_Data[1]<100)],SD_Data[1][(SD_Data[1]>10)&(SD_Data[1]<100)]),1))\n",
    "        worksheet_full.write(row,5,np.linalg.norm(np.multiply(RD_Data[0][(RD_Data[1]>10)&(RD_Data[1]<100)],RD_Data[1][(RD_Data[1]>10)&(RD_Data[1]<100)]),1))\n",
    "        worksheet_full.write(row,6,SD_Data[0][np.argmax(SD_Data[0][(SD_Data[1]>10)&(SD_Data[1]<100)])])\n",
    "        worksheet_full.write(row,7,SD_Data[1][np.argmax(SD_Data[0][(SD_Data[1]>10)&(SD_Data[1]<100)])])\n",
    "        worksheet_full.write(row,8,RD_Data[0][np.argmax(RD_Data[0][(RD_Data[1]>10)&(RD_Data[1]<100)])])\n",
    "        worksheet_full.write(row,9,RD_Data[1][np.argmax(RD_Data[0][(RD_Data[1]>10)&(RD_Data[1]<100)])])\n",
    "        \n",
    "        worksheet_full.write(row,11,partname)\n",
    "        worksheet_full.write(row,12,MPF_M)\n",
    "        worksheet_full.write(row,13,MPF_C)\n",
    "        worksheet_full.write(row,14,(MPF_C-MPF_M))\n",
    "        worksheet_full.write(row,15,np.linalg.norm(np.multiply(M_Data[0][(M_Data[1]>10)&(M_Data[1]<100)],M_Data[1][(M_Data[1]>10)&(M_Data[1]<100)]),1))\n",
    "        worksheet_full.write(row,16,np.linalg.norm(np.multiply(C_Data[0][(C_Data[1]>10)&(C_Data[1]<100)],C_Data[1][(C_Data[1]>10)&(C_Data[1]<100)]),1))\n",
    "        worksheet_full.write(row,17,M_Data[0][np.argmax(M_Data[0][(M_Data[1]>10)&(M_Data[1]<100)])])\n",
    "        worksheet_full.write(row,18,M_Data[1][np.argmax(M_Data[0][(M_Data[1]>10)&(M_Data[1]<100)])])\n",
    "        worksheet_full.write(row,19,C_Data[0][np.argmax(C_Data[0][(C_Data[1]>10)&(C_Data[1]<100)])])\n",
    "        worksheet_full.write(row,20,C_Data[1][np.argmax(C_Data[0][(C_Data[1]>10)&(C_Data[1]<100)])])\n",
    "\n",
    "        \n",
    "        \n",
    "        \n",
    "        \"\"\"\n",
    "        For First minute Data\n",
    "        Conversion to log and calculating parameters \n",
    "        Saving to excel file\n",
    "        \"\"\"\n",
    "        RD_Data_First=list(RD_Data_First)\n",
    "        SD_Data_First=list(SD_Data_First)\n",
    "        C_Data_First=list(C_Data_First)\n",
    "        M_Data_First=list(M_Data_First)\n",
    "        RD_Data_First[0]=10*np.log10(RD_Data_First[0])\n",
    "        SD_Data_First[0]=10*np.log10(SD_Data_First[0])\n",
    "        C_Data_First[0]=10*np.log10(C_Data_First[0])\n",
    "        M_Data_First[0]=10*np.log10(M_Data_First[0])\n",
    "        \n",
    "        MPF_RD=np.linalg.norm(np.multiply(RD_Data_First[0][(RD_Data_First[1]>10)&(RD_Data_First[1]<100)],RD_Data_First[1][(RD_Data_First[1]>10)&(RD_Data_First[1]<100)]),1)/np.linalg.norm(RD_Data_First[0][(RD_Data_First[1]>10)&(RD_Data_First[1]<100)],1)\n",
    "        MPF_SD=np.linalg.norm(np.multiply(SD_Data_First[0][(SD_Data_First[1]>10)&(SD_Data_First[1]<100)],SD_Data_First[1][(SD_Data_First[1]>10)&(SD_Data_First[1]<100)]),1)/np.linalg.norm(SD_Data_First[0][(SD_Data_First[1]>10)&(SD_Data_First[1]<100)],1)\n",
    "        MPF_C=np.linalg.norm(np.multiply(C_Data_First[0][(C_Data_First[1]>10)&(C_Data_First[1]<100)],C_Data_First[1][(C_Data_First[1]>10)&(C_Data_First[1]<100)]),1)/np.linalg.norm(C_Data_First[0][(C_Data_First[1]>10)&(C_Data_First[1]<100)],1)\n",
    "        MPF_M=np.linalg.norm(np.multiply(M_Data_First[0][(M_Data_First[1]>10)&(M_Data_First[1]<100)],M_Data_First[1][(M_Data_First[1]>10)&(M_Data_First[1]<100)]),1)/np.linalg.norm(M_Data_First[0][(M_Data_First[1]>10)&(M_Data_First[1]<100)],1)\n",
    "        \n",
    "        Math_PSD_Data_First=pd.DataFrame({'freq':M_Data_First[1][(M_Data_First[1]>10)&(M_Data_First[1]<100)],'Power':M_Data_First[0][(M_Data_First[1]>10)&(M_Data_First[1]<100)]})\n",
    "        Calm_PSD_Data_First=pd.DataFrame({'freq':C_Data_First[1][(C_Data_First[1]>10)&(C_Data_First[1]<100)],'Power':C_Data_First[0][(C_Data_First[1]>10)&(C_Data_First[1]<100)]})\n",
    "        RD_PSD_Data_First=pd.DataFrame({'freq':RD_Data_First[1][(RD_Data_First[1]>10)&(RD_Data_First[1]<100)],'Power':RD_Data_First[0][(RD_Data_First[1]>10)&(RD_Data_First[1]<100)]})\n",
    "        SD_PSD_Data_First=pd.DataFrame({'freq':SD_Data_First[1][(SD_Data_First[1]>10)&(SD_Data_First[1]<100)],'Power':SD_Data_First[0][(SD_Data_First[1]>10)&(SD_Data_First[1]<100)]})\n",
    "        SD_PSD_Data_First.to_excel(writer_first,'Stressed_Drive_'+channel[j])\n",
    "        RD_PSD_Data_First.to_excel(writer_first,'Relaxed_Drive_'+channel[j])\n",
    "        Math_PSD_Data_First.to_excel(writer_first,'Math_'+channel[j])\n",
    "        Calm_PSD_Data_First.to_excel(writer_first,'Calm_'+channel[j])\n",
    "\n",
    "\n",
    "        \n",
    "        worksheet_first.write(row,0,partname)\n",
    "        worksheet_first.write(row,1,MPF_SD)\n",
    "        worksheet_first.write(row,2,MPF_RD)\n",
    "        worksheet_first.write(row,3,(MPF_RD-MPF_SD))\n",
    "        worksheet_first.write(row,4,np.linalg.norm(np.multiply(SD_Data_First[0][(SD_Data_First[1]>10)&(SD_Data_First[1]<100)],SD_Data_First[1][(SD_Data_First[1]>10)&(SD_Data_First[1]<100)]),1))\n",
    "        worksheet_first.write(row,5,np.linalg.norm(np.multiply(RD_Data_First[0][(RD_Data_First[1]>10)&(RD_Data_First[1]<100)],RD_Data_First[1][(RD_Data_First[1]>10)&(RD_Data_First[1]<100)]),1))\n",
    "        worksheet_first.write(row,6,SD_Data_First[0][np.argmax(SD_Data_First[0][(SD_Data_First[1]>10)&(SD_Data_First[1]<100)])])\n",
    "        worksheet_first.write(row,7,SD_Data_First[1][np.argmax(SD_Data_First[0][(SD_Data_First[1]>10)&(SD_Data_First[1]<100)])])\n",
    "        worksheet_first.write(row,8,RD_Data_First[0][np.argmax(RD_Data_First[0][(RD_Data_First[1]>10)&(RD_Data_First[1]<100)])])\n",
    "        worksheet_first.write(row,9,RD_Data_First[1][np.argmax(RD_Data_First[0][(RD_Data_First[1]>10)&(RD_Data_First[1]<100)])])\n",
    "        \n",
    "        worksheet_first.write(row,11,partname)\n",
    "        worksheet_first.write(row,12,MPF_M)\n",
    "        worksheet_first.write(row,13,MPF_C)\n",
    "        worksheet_first.write(row,14,(MPF_C-MPF_M))\n",
    "        worksheet_first.write(row,15,np.linalg.norm(np.multiply(M_Data_First[0][(M_Data_First[1]>10)&(M_Data_First[1]<100)],M_Data_First[1][(M_Data_First[1]>10)&(M_Data_First[1]<100)]),1))\n",
    "        worksheet_first.write(row,16,np.linalg.norm(np.multiply(C_Data_First[0][(C_Data_First[1]>10)&(C_Data_First[1]<100)],C_Data_First[1][(C_Data_First[1]>10)&(C_Data_First[1]<100)]),1))\n",
    "        worksheet_first.write(row,17,M_Data_First[0][np.argmax(M_Data_First[0][(M_Data_First[1]>10)&(M_Data_First[1]<100)])])\n",
    "        worksheet_first.write(row,18,M_Data_First[1][np.argmax(M_Data_First[0][(M_Data_First[1]>10)&(M_Data_First[1]<100)])])\n",
    "        worksheet_first.write(row,19,C_Data_First[0][np.argmax(C_Data_First[0][(C_Data_First[1]>10)&(C_Data_First[1]<100)])])\n",
    "        worksheet_first.write(row,20,C_Data_First[1][np.argmax(C_Data_First[0][(C_Data_First[1]>10)&(C_Data_First[1]<100)])])\n",
    "\n",
    "        \n",
    "        powerdata_full_RD[:,i,j]=RD_Data[0][(RD_Data[1]>10)&(RD_Data[1]<100)]\n",
    "        powerdata_full_SD[:,i,j]=SD_Data[0][(RD_Data[1]>10)&(RD_Data[1]<100)]\n",
    "        powerdata_full_C[:,i,j]=C_Data[0][(RD_Data[1]>10)&(RD_Data[1]<100)]\n",
    "        powerdata_full_M[:,i,j]=M_Data[0][(RD_Data[1]>10)&(RD_Data[1]<100)]\n",
    "        powerdata_first_RD[:,i,j]=RD_Data_First[0][(RD_Data_First[1]>10)&(RD_Data_First[1]<100)]\n",
    "        powerdata_first_SD[:,i,j]=SD_Data_First[0][(RD_Data_First[1]>10)&(RD_Data_First[1]<100)]\n",
    "        powerdata_first_C[:,i,j]=C_Data_First[0][(RD_Data_First[1]>10)&(RD_Data_First[1]<100)]\n",
    "        powerdata_first_M[:,i,j]=M_Data_First[0][(RD_Data_First[1]>10)&(RD_Data_First[1]<100)]\n",
    "        \n",
    "    writer_full.save()\n",
    "    writer_first.save()\n",
    "    plt.clf()\n",
    "    row+=1\n",
    "\n",
    "workbook_full.close() \n",
    "workbook_first.close() \n",
    "\n",
    "\n",
    "\n",
    "\n",
    "\n"
   ]
  },
  {
   "cell_type": "code",
   "execution_count": 188,
   "metadata": {},
   "outputs": [
    {
     "data": {
      "image/png": "[encoded data removed]",
      "text/plain": [
       "<Figure size 432x288 with 1 Axes>"
      ]
     },
     "metadata": {
      "needs_background": "light"
     },
     "output_type": "display_data"
    },
    {
     "data": {
      "image/png": "[encoded data removed]",
      "text/plain": [
       "<Figure size 432x288 with 1 Axes>"
      ]
     },
     "metadata": {
      "needs_background": "light"
     },
     "output_type": "display_data"
    },
    {
     "data": {
      "image/png": "[encoded data removed]",
      "text/plain": [
       "<Figure size 432x288 with 1 Axes>"
      ]
     },
     "metadata": {
      "needs_background": "light"
     },
     "output_type": "display_data"
    },
    {
     "data": {
      "image/png": "[encoded data removed]",
      "text/plain": [
       "<Figure size 432x288 with 1 Axes>"
      ]
     },
     "metadata": {
      "needs_background": "light"
     },
     "output_type": "display_data"
    }
   ],
   "source": [
    "import statistics\n",
    "\n",
    "\"\"\"\n",
    "Calculate Average and Std for all freqs for full and first min data\n",
    "\"\"\"\n",
    "Avg_full_RD=np.zeros((len(RD_Data[0][(RD_Data[1]>10)&(RD_Data[1]<100)]),len(channel)))\n",
    "Avg_full_SD=np.zeros((len(RD_Data[0][(RD_Data[1]>10)&(RD_Data[1]<100)]),len(channel)))\n",
    "Avg_full_C=np.zeros((len(RD_Data[0][(RD_Data[1]>10)&(RD_Data[1]<100)]),len(channel)))\n",
    "Avg_full_M=np.zeros((len(RD_Data[0][(RD_Data[1]>10)&(RD_Data[1]<100)]),len(channel)))\n",
    "\n",
    "stdev_full_RD=np.empty((len(RD_Data[0][(RD_Data[1]>10)&(RD_Data[1]<100)]),len(channel)))\n",
    "stdev_full_SD=np.empty((len(RD_Data[0][(RD_Data[1]>10)&(RD_Data[1]<100)]),len(channel)))\n",
    "stdev_full_C=np.empty((len(RD_Data[0][(RD_Data[1]>10)&(RD_Data[1]<100)]),len(channel)))\n",
    "stdev_full_M=np.empty((len(RD_Data[0][(RD_Data[1]>10)&(RD_Data[1]<100)]),len(channel)))\n",
    "\n",
    "Avg_first_RD=np.zeros((len(RD_Data_First[0][(RD_Data_First[1]>10)&(RD_Data_First[1]<100)]),len(channel)))\n",
    "Avg_first_SD=np.zeros((len(RD_Data_First[0][(RD_Data_First[1]>10)&(RD_Data_First[1]<100)]),len(channel)))\n",
    "Avg_first_C=np.zeros((len(RD_Data_First[0][(RD_Data_First[1]>10)&(RD_Data_First[1]<100)]),len(channel)))\n",
    "Avg_first_M=np.zeros((len(RD_Data_First[0][(RD_Data_First[1]>10)&(RD_Data_First[1]<100)]),len(channel)))\n",
    "\n",
    "stdev_first_RD=np.empty((len(RD_Data_First[0][(RD_Data_First[1]>10)&(RD_Data_First[1]<100)]),len(channel)))\n",
    "stdev_first_SD=np.empty((len(RD_Data_First[0][(RD_Data_First[1]>10)&(RD_Data_First[1]<100)]),len(channel)))\n",
    "stdev_first_C=np.empty((len(RD_Data_First[0][(RD_Data_First[1]>10)&(RD_Data_First[1]<100)]),len(channel)))\n",
    "stdev_first_M=np.empty((len(RD_Data_First[0][(RD_Data_First[1]>10)&(RD_Data_First[1]<100)]),len(channel)))\n",
    "\n",
    "for i in range(len(RD_Data[1][(RD_Data[1]>10)&(RD_Data[1]<100)])):\n",
    "    for j in range(len(channel)):\n",
    "        stdev_full_RD[i,j]=statistics.stdev(powerdata_full_RD[i,:,j])\n",
    "        stdev_full_SD[i,j]=statistics.stdev(powerdata_full_SD[i,:,j])\n",
    "        stdev_full_C[i,j]=statistics.stdev(powerdata_full_C[i,:,j])\n",
    "        stdev_full_M[i,j]=statistics.stdev(powerdata_full_M[i,:,j])\n",
    "        Avg_full_RD[i,j]=statistics.mean(powerdata_full_RD[i,:,j])\n",
    "        Avg_full_SD[i,j]=statistics.mean(powerdata_full_SD[i,:,j])\n",
    "        Avg_full_C[i,j]=statistics.mean(powerdata_full_C[i,:,j])\n",
    "        Avg_full_M[i,j]=statistics.mean(powerdata_full_M[i,:,j])\n",
    "        \n",
    "        stdev_first_RD[i,j]=statistics.stdev(powerdata_first_RD[i,:,j])\n",
    "        stdev_first_SD[i,j]=statistics.stdev(powerdata_first_SD[i,:,j])\n",
    "        stdev_first_C[i,j]=statistics.stdev(powerdata_first_C[i,:,j])\n",
    "        stdev_first_M[i,j]=statistics.stdev(powerdata_first_M[i,:,j])\n",
    "        Avg_first_RD[i,j]=statistics.mean(powerdata_first_RD[i,:,j])\n",
    "        Avg_first_SD[i,j]=statistics.mean(powerdata_first_SD[i,:,j])\n",
    "        Avg_first_C[i,j]=statistics.mean(powerdata_first_C[i,:,j])\n",
    "        Avg_first_M[i,j]=statistics.mean(powerdata_first_M[i,:,j])\n",
    "\n",
    "\n",
    "\n",
    "\"\"\"\n",
    "Save Average and Std Values\n",
    "\"\"\"\n",
    "RD_full_Avg=pd.DataFrame(Avg_full_RD)\n",
    "M_full_Avg=pd.DataFrame(Avg_full_M)\n",
    "C_full_Avg=pd.DataFrame(Avg_full_C)\n",
    "SD_full_Avg=pd.DataFrame(Avg_full_SD)\n",
    "SD_full_Avg.columns=channel\n",
    "RD_full_Avg.columns=channel\n",
    "M_full_Avg.columns=channel\n",
    "C_full_Avg.columns=channel\n",
    "\n",
    "RD_full_Avg.to_csv(r'EMG_Spectrogram/RD_full_Avg.csv')\n",
    "SD_full_Avg.to_csv(r'EMG_Spectrogram/SD_full_Avg.csv')\n",
    "C_full_Avg.to_csv(r'EMG_Spectrogram/C_full_Avg.csv')\n",
    "M_full_Avg.to_csv(r'EMG_Spectrogram/M_full_Avg.csv')\n",
    "\n",
    "RD_first_Avg=pd.DataFrame(Avg_first_RD)\n",
    "M_first_Avg=pd.DataFrame(Avg_first_M)\n",
    "C_first_Avg=pd.DataFrame(Avg_first_C)\n",
    "SD_first_Avg=pd.DataFrame(Avg_first_SD)\n",
    "SD_first_Avg.columns=channel\n",
    "RD_first_Avg.columns=channel\n",
    "M_first_Avg.columns=channel\n",
    "C_first_Avg.columns=channel\n",
    "\n",
    "RD_first_Avg.to_csv(r'EMG_Spectrogram/RD_first_Avg.csv')\n",
    "SD_first_Avg.to_csv(r'EMG_Spectrogram/SD_first_Avg.csv')\n",
    "C_first_Avg.to_csv(r'EMG_Spectrogram/C_first_Avg.csv')\n",
    "M_first_Avg.to_csv(r'EMG_Spectrogram/M_first_Avg.csv')\n",
    "\n",
    "\n",
    "\n",
    "RD_full_Stdev=pd.DataFrame(stdev_full_RD)\n",
    "M_full_Stdev=pd.DataFrame(stdev_full_M)\n",
    "C_full_Stdev=pd.DataFrame(stdev_full_C)\n",
    "SD_full_Stdev=pd.DataFrame(stdev_full_SD)\n",
    "SD_full_Stdev.columns=channel\n",
    "RD_full_Stdev.columns=channel\n",
    "M_full_Stdev.columns=channel\n",
    "C_full_Stdev.columns=channel\n",
    "\n",
    "RD_full_Stdev.to_csv(r'EMG_Spectrogram/RD_full_Stdev.csv')\n",
    "SD_full_Stdev.to_csv(r'EMG_Spectrogram/SD_full_Stdev.csv')\n",
    "C_full_Stdev.to_csv(r'EMG_Spectrogram/C_full_Stdev.csv')\n",
    "M_full_Stdev.to_csv(r'EMG_Spectrogram/M_full_Stdev.csv')\n",
    "\n",
    "RD_first_Stdev=pd.DataFrame(stdev_first_RD)\n",
    "M_first_Stdev=pd.DataFrame(stdev_first_M)\n",
    "C_first_Stdev=pd.DataFrame(stdev_first_C)\n",
    "SD_first_Stdev=pd.DataFrame(stdev_first_SD)\n",
    "SD_first_Stdev.columns=channel\n",
    "RD_first_Stdev.columns=channel\n",
    "M_first_Stdev.columns=channel\n",
    "C_first_Stdev.columns=channel\n",
    "\n",
    "RD_first_Stdev.to_csv(r'EMG_Spectrogram/RD_first_Stdev.csv')\n",
    "SD_first_Stdev.to_csv(r'EMG_Spectrogram/SD_first_Stdev.csv')\n",
    "C_first_Stdev.to_csv(r'EMG_Spectrogram/C_first_Stdev.csv')\n",
    "M_first_Stdev.to_csv(r'EMG_Spectrogram/M_first_Stdev.csv')\n",
    "\n",
    "\"\"\"\n",
    "Making plots for average with Std\n",
    "\"\"\"\n",
    "if not os.path.isdir('EMG_Spectrogram/Mean_Graphs'):\n",
    "    os.mkdir('EMG_Spectrogram/Mean_Graphs')\n",
    "\n",
    "freq=RD_Data[1][(RD_Data[1]>10)&(RD_Data[1]<100)]\n",
    "for j in range(len(channel)):\n",
    "    plt.figure()\n",
    "    plt.plot(freq,Avg_full_RD[:,j],'b-',label='Relaxed Driving')\n",
    "    plt.plot(freq,Avg_full_RD[:,j]+stdev_full_RD[:,j],'r--',label='')\n",
    "    plt.plot(freq,Avg_full_RD[:,j]-stdev_full_RD[:,j],'r--',label='')\n",
    "    plt.plot(freq,Avg_full_SD[:,j],'r-',label='Stressed Driving')\n",
    "    plt.plot(freq,Avg_full_SD[:,j]+stdev_full_SD[:,j],'b--',label='')\n",
    "    plt.plot(freq,Avg_full_SD[:,j]-stdev_full_SD[:,j],'b--',label='')\n",
    "    plt.title(channel[j])\n",
    "    plt.xlabel('Frequency (in Hz)')\n",
    "    plt.ylabel('Average Power (in dB)')\n",
    "    plt.legend()\n",
    "    plt.savefig('EMG_Spectrogram/Mean_Graphs/Mean_Curve'+channel[j]+'.png')\n",
    "  \n",
    "freq=RD_Data_First[1][(RD_Data_First[1]>10)&(RD_Data_First[1]<100)]\n",
    "for j in range(len(channel)):\n",
    "    plt.figure()\n",
    "    plt.plot(freq,Avg_first_RD[:,j],'b-',label='Relaxed Driving')\n",
    "    plt.plot(freq,Avg_first_RD[:,j]+stdev_first_RD[:,j],'r--',label='')\n",
    "    plt.plot(freq,Avg_first_RD[:,j]-stdev_first_RD[:,j],'r--',label='')\n",
    "    plt.plot(freq,Avg_first_SD[:,j],'r-',label='Stressed Driving')\n",
    "    plt.plot(freq,Avg_first_SD[:,j]+stdev_first_SD[:,j],'b--',label='')\n",
    "    plt.plot(freq,Avg_first_SD[:,j]-stdev_first_SD[:,j],'b--',label='')\n",
    "    plt.title(channel[j])\n",
    "    plt.xlabel('Frequency (in Hz)')\n",
    "    plt.ylabel('Average Power (in dB)')\n",
    "    plt.legend()\n",
    "    plt.savefig('EMG_Spectrogram/Mean_Graphs/Mean_Curve_first'+channel[j]+'.png')\n"
   ]
  },
  {
   "cell_type": "code",
   "execution_count": 180,
   "metadata": {},
   "outputs": [],
   "source": [
    "\"\"\"\n",
    "Code for rewriting the data for first participant since the array had some junk value\n",
    "\"\"\"\n",
    "sheets=['Stressed_Drive_C1','Relaxed_Drive_C1','Math_C1','Calm_C1']    \n",
    "RD = pd.read_excel(r'EMG_Spectrogram/PSD_Data_Full/B303_Full_PSD.xlsx', sheets[1],header=0)\n",
    "powerdata_full_RD[:,0,0]=RD['Power']\n",
    "RD = pd.read_excel(r'EMG_Spectrogram/PSD_Data_Full/B303_Full_PSD.xlsx', sheets[0],header=0)\n",
    "powerdata_full_SD[:,0,0]=RD['Power']\n",
    "RD = pd.read_excel(r'EMG_Spectrogram/PSD_Data_Full/B303_Full_PSD.xlsx', sheets[3],header=0)\n",
    "powerdata_full_C[:,0,0]=RD['Power']\n",
    "RD = pd.read_excel(r'EMG_Spectrogram/PSD_Data_Full/B303_Full_PSD.xlsx', sheets[2],header=0)\n",
    "powerdata_full_M[:,0,0]=RD['Power']\n",
    "\n",
    "sheets=['Stressed_Drive_C1','Relaxed_Drive_C1','Math_C1','Calm_C1']    \n",
    "RD = pd.read_excel(r'EMG_Spectrogram/PSD_Data_First/B303_First_PSD.xlsx', sheets[1],header=0)\n",
    "powerdata_first_RD[:,0,0]=RD['Power']\n",
    "RD = pd.read_excel(r'EMG_Spectrogram/PSD_Data_First/B303_First_PSD.xlsx', sheets[0],header=0)\n",
    "powerdata_first_SD[:,0,0]=RD['Power']\n",
    "RD = pd.read_excel(r'EMG_Spectrogram/PSD_Data_First/B303_First_PSD.xlsx', sheets[3],header=0)\n",
    "powerdata_first_C[:,0,0]=RD['Power']\n",
    "RD = pd.read_excel(r'EMG_Spectrogram/PSD_Data_First/B303_First_PSD.xlsx', sheets[2],header=0)\n",
    "powerdata_first_M[:,0,0]=RD['Power']"
   ]
  },
  {
   "cell_type": "code",
   "execution_count": 198,
   "metadata": {},
   "outputs": [
    {
     "name": "stderr",
     "output_type": "stream",
     "text": [
      "/usr/local/lib/python3.5/dist-packages/matplotlib/pyplot.py:514: RuntimeWarning: More than 20 figures have been opened. Figures created through the pyplot interface (`matplotlib.pyplot.figure`) are retained until explicitly closed and may consume too much memory. (To control this warning, see the rcParam `figure.max_open_warning`).\n",
      "  max_open_warning, RuntimeWarning)\n"
     ]
    },
    {
     "data": {
      "text/plain": [
       "<Figure size 432x288 with 0 Axes>"
      ]
     },
     "metadata": {},
     "output_type": "display_data"
    },
    {
     "data": {
      "text/plain": [
       "<Figure size 432x288 with 0 Axes>"
      ]
     },
     "metadata": {},
     "output_type": "display_data"
    },
    {
     "data": {
      "text/plain": [
       "<Figure size 432x288 with 0 Axes>"
      ]
     },
     "metadata": {},
     "output_type": "display_data"
    },
    {
     "data": {
      "text/plain": [
       "<Figure size 432x288 with 0 Axes>"
      ]
     },
     "metadata": {},
     "output_type": "display_data"
    },
    {
     "data": {
      "text/plain": [
       "<Figure size 432x288 with 0 Axes>"
      ]
     },
     "metadata": {},
     "output_type": "display_data"
    },
    {
     "data": {
      "text/plain": [
       "<Figure size 432x288 with 0 Axes>"
      ]
     },
     "metadata": {},
     "output_type": "display_data"
    },
    {
     "data": {
      "text/plain": [
       "<Figure size 432x288 with 0 Axes>"
      ]
     },
     "metadata": {},
     "output_type": "display_data"
    },
    {
     "data": {
      "text/plain": [
       "<Figure size 432x288 with 0 Axes>"
      ]
     },
     "metadata": {},
     "output_type": "display_data"
    },
    {
     "data": {
      "text/plain": [
       "<Figure size 432x288 with 0 Axes>"
      ]
     },
     "metadata": {},
     "output_type": "display_data"
    },
    {
     "data": {
      "text/plain": [
       "<Figure size 432x288 with 0 Axes>"
      ]
     },
     "metadata": {},
     "output_type": "display_data"
    },
    {
     "data": {
      "text/plain": [
       "<Figure size 432x288 with 0 Axes>"
      ]
     },
     "metadata": {},
     "output_type": "display_data"
    },
    {
     "data": {
      "text/plain": [
       "<Figure size 432x288 with 0 Axes>"
      ]
     },
     "metadata": {},
     "output_type": "display_data"
    },
    {
     "data": {
      "text/plain": [
       "<Figure size 432x288 with 0 Axes>"
      ]
     },
     "metadata": {},
     "output_type": "display_data"
    },
    {
     "data": {
      "text/plain": [
       "<Figure size 432x288 with 0 Axes>"
      ]
     },
     "metadata": {},
     "output_type": "display_data"
    },
    {
     "data": {
      "text/plain": [
       "<Figure size 432x288 with 0 Axes>"
      ]
     },
     "metadata": {},
     "output_type": "display_data"
    },
    {
     "data": {
      "text/plain": [
       "<Figure size 432x288 with 0 Axes>"
      ]
     },
     "metadata": {},
     "output_type": "display_data"
    },
    {
     "data": {
      "text/plain": [
       "<Figure size 432x288 with 0 Axes>"
      ]
     },
     "metadata": {},
     "output_type": "display_data"
    },
    {
     "data": {
      "text/plain": [
       "<Figure size 432x288 with 0 Axes>"
      ]
     },
     "metadata": {},
     "output_type": "display_data"
    },
    {
     "data": {
      "text/plain": [
       "<Figure size 432x288 with 0 Axes>"
      ]
     },
     "metadata": {},
     "output_type": "display_data"
    },
    {
     "data": {
      "text/plain": [
       "<Figure size 432x288 with 0 Axes>"
      ]
     },
     "metadata": {},
     "output_type": "display_data"
    },
    {
     "data": {
      "text/plain": [
       "<Figure size 432x288 with 0 Axes>"
      ]
     },
     "metadata": {},
     "output_type": "display_data"
    },
    {
     "data": {
      "text/plain": [
       "<Figure size 432x288 with 0 Axes>"
      ]
     },
     "metadata": {},
     "output_type": "display_data"
    },
    {
     "data": {
      "text/plain": [
       "<Figure size 432x288 with 0 Axes>"
      ]
     },
     "metadata": {},
     "output_type": "display_data"
    },
    {
     "data": {
      "text/plain": [
       "<Figure size 432x288 with 0 Axes>"
      ]
     },
     "metadata": {},
     "output_type": "display_data"
    },
    {
     "data": {
      "text/plain": [
       "<Figure size 432x288 with 0 Axes>"
      ]
     },
     "metadata": {},
     "output_type": "display_data"
    },
    {
     "data": {
      "text/plain": [
       "<Figure size 432x288 with 0 Axes>"
      ]
     },
     "metadata": {},
     "output_type": "display_data"
    },
    {
     "data": {
      "text/plain": [
       "<Figure size 432x288 with 0 Axes>"
      ]
     },
     "metadata": {},
     "output_type": "display_data"
    },
    {
     "data": {
      "text/plain": [
       "<Figure size 432x288 with 0 Axes>"
      ]
     },
     "metadata": {},
     "output_type": "display_data"
    },
    {
     "data": {
      "text/plain": [
       "<Figure size 432x288 with 0 Axes>"
      ]
     },
     "metadata": {},
     "output_type": "display_data"
    },
    {
     "data": {
      "text/plain": [
       "<Figure size 432x288 with 0 Axes>"
      ]
     },
     "metadata": {},
     "output_type": "display_data"
    },
    {
     "data": {
      "text/plain": [
       "<Figure size 432x288 with 0 Axes>"
      ]
     },
     "metadata": {},
     "output_type": "display_data"
    },
    {
     "data": {
      "text/plain": [
       "<Figure size 432x288 with 0 Axes>"
      ]
     },
     "metadata": {},
     "output_type": "display_data"
    },
    {
     "data": {
      "text/plain": [
       "<Figure size 432x288 with 0 Axes>"
      ]
     },
     "metadata": {},
     "output_type": "display_data"
    },
    {
     "data": {
      "text/plain": [
       "<Figure size 432x288 with 0 Axes>"
      ]
     },
     "metadata": {},
     "output_type": "display_data"
    },
    {
     "data": {
      "text/plain": [
       "<Figure size 432x288 with 0 Axes>"
      ]
     },
     "metadata": {},
     "output_type": "display_data"
    },
    {
     "data": {
      "text/plain": [
       "<Figure size 432x288 with 0 Axes>"
      ]
     },
     "metadata": {},
     "output_type": "display_data"
    },
    {
     "data": {
      "text/plain": [
       "<Figure size 432x288 with 0 Axes>"
      ]
     },
     "metadata": {},
     "output_type": "display_data"
    },
    {
     "data": {
      "text/plain": [
       "<Figure size 432x288 with 0 Axes>"
      ]
     },
     "metadata": {},
     "output_type": "display_data"
    },
    {
     "data": {
      "text/plain": [
       "<Figure size 432x288 with 0 Axes>"
      ]
     },
     "metadata": {},
     "output_type": "display_data"
    },
    {
     "data": {
      "text/plain": [
       "<Figure size 432x288 with 0 Axes>"
      ]
     },
     "metadata": {},
     "output_type": "display_data"
    },
    {
     "data": {
      "text/plain": [
       "<Figure size 432x288 with 0 Axes>"
      ]
     },
     "metadata": {},
     "output_type": "display_data"
    },
    {
     "data": {
      "text/plain": [
       "<Figure size 432x288 with 0 Axes>"
      ]
     },
     "metadata": {},
     "output_type": "display_data"
    },
    {
     "data": {
      "text/plain": [
       "<Figure size 432x288 with 0 Axes>"
      ]
     },
     "metadata": {},
     "output_type": "display_data"
    },
    {
     "data": {
      "text/plain": [
       "<Figure size 432x288 with 0 Axes>"
      ]
     },
     "metadata": {},
     "output_type": "display_data"
    },
    {
     "data": {
      "text/plain": [
       "<Figure size 432x288 with 0 Axes>"
      ]
     },
     "metadata": {},
     "output_type": "display_data"
    },
    {
     "data": {
      "text/plain": [
       "<Figure size 432x288 with 0 Axes>"
      ]
     },
     "metadata": {},
     "output_type": "display_data"
    },
    {
     "data": {
      "text/plain": [
       "<Figure size 432x288 with 0 Axes>"
      ]
     },
     "metadata": {},
     "output_type": "display_data"
    },
    {
     "data": {
      "text/plain": [
       "<Figure size 432x288 with 0 Axes>"
      ]
     },
     "metadata": {},
     "output_type": "display_data"
    },
    {
     "data": {
      "text/plain": [
       "<Figure size 432x288 with 0 Axes>"
      ]
     },
     "metadata": {},
     "output_type": "display_data"
    },
    {
     "data": {
      "text/plain": [
       "<Figure size 432x288 with 0 Axes>"
      ]
     },
     "metadata": {},
     "output_type": "display_data"
    },
    {
     "data": {
      "text/plain": [
       "<Figure size 432x288 with 0 Axes>"
      ]
     },
     "metadata": {},
     "output_type": "display_data"
    },
    {
     "data": {
      "text/plain": [
       "<Figure size 432x288 with 0 Axes>"
      ]
     },
     "metadata": {},
     "output_type": "display_data"
    },
    {
     "data": {
      "text/plain": [
       "<Figure size 432x288 with 0 Axes>"
      ]
     },
     "metadata": {},
     "output_type": "display_data"
    },
    {
     "data": {
      "text/plain": [
       "<Figure size 432x288 with 0 Axes>"
      ]
     },
     "metadata": {},
     "output_type": "display_data"
    },
    {
     "data": {
      "text/plain": [
       "<Figure size 432x288 with 0 Axes>"
      ]
     },
     "metadata": {},
     "output_type": "display_data"
    },
    {
     "data": {
      "text/plain": [
       "<Figure size 432x288 with 0 Axes>"
      ]
     },
     "metadata": {},
     "output_type": "display_data"
    },
    {
     "data": {
      "text/plain": [
       "<Figure size 432x288 with 0 Axes>"
      ]
     },
     "metadata": {},
     "output_type": "display_data"
    },
    {
     "data": {
      "text/plain": [
       "<Figure size 432x288 with 0 Axes>"
      ]
     },
     "metadata": {},
     "output_type": "display_data"
    },
    {
     "data": {
      "text/plain": [
       "<Figure size 432x288 with 0 Axes>"
      ]
     },
     "metadata": {},
     "output_type": "display_data"
    },
    {
     "data": {
      "text/plain": [
       "<Figure size 432x288 with 0 Axes>"
      ]
     },
     "metadata": {},
     "output_type": "display_data"
    },
    {
     "data": {
      "text/plain": [
       "<Figure size 432x288 with 0 Axes>"
      ]
     },
     "metadata": {},
     "output_type": "display_data"
    },
    {
     "data": {
      "text/plain": [
       "<Figure size 432x288 with 0 Axes>"
      ]
     },
     "metadata": {},
     "output_type": "display_data"
    },
    {
     "data": {
      "text/plain": [
       "<Figure size 432x288 with 0 Axes>"
      ]
     },
     "metadata": {},
     "output_type": "display_data"
    },
    {
     "data": {
      "text/plain": [
       "<Figure size 432x288 with 0 Axes>"
      ]
     },
     "metadata": {},
     "output_type": "display_data"
    },
    {
     "data": {
      "text/plain": [
       "<Figure size 432x288 with 0 Axes>"
      ]
     },
     "metadata": {},
     "output_type": "display_data"
    },
    {
     "data": {
      "text/plain": [
       "<Figure size 432x288 with 0 Axes>"
      ]
     },
     "metadata": {},
     "output_type": "display_data"
    },
    {
     "data": {
      "text/plain": [
       "<Figure size 432x288 with 0 Axes>"
      ]
     },
     "metadata": {},
     "output_type": "display_data"
    },
    {
     "data": {
      "text/plain": [
       "<Figure size 432x288 with 0 Axes>"
      ]
     },
     "metadata": {},
     "output_type": "display_data"
    },
    {
     "data": {
      "text/plain": [
       "<Figure size 432x288 with 0 Axes>"
      ]
     },
     "metadata": {},
     "output_type": "display_data"
    },
    {
     "data": {
      "text/plain": [
       "<Figure size 432x288 with 0 Axes>"
      ]
     },
     "metadata": {},
     "output_type": "display_data"
    },
    {
     "data": {
      "text/plain": [
       "<Figure size 432x288 with 0 Axes>"
      ]
     },
     "metadata": {},
     "output_type": "display_data"
    },
    {
     "data": {
      "text/plain": [
       "<Figure size 432x288 with 0 Axes>"
      ]
     },
     "metadata": {},
     "output_type": "display_data"
    },
    {
     "data": {
      "text/plain": [
       "<Figure size 432x288 with 0 Axes>"
      ]
     },
     "metadata": {},
     "output_type": "display_data"
    },
    {
     "data": {
      "text/plain": [
       "<Figure size 432x288 with 0 Axes>"
      ]
     },
     "metadata": {},
     "output_type": "display_data"
    },
    {
     "data": {
      "text/plain": [
       "<Figure size 432x288 with 0 Axes>"
      ]
     },
     "metadata": {},
     "output_type": "display_data"
    },
    {
     "data": {
      "text/plain": [
       "<Figure size 432x288 with 0 Axes>"
      ]
     },
     "metadata": {},
     "output_type": "display_data"
    },
    {
     "data": {
      "text/plain": [
       "<Figure size 432x288 with 0 Axes>"
      ]
     },
     "metadata": {},
     "output_type": "display_data"
    },
    {
     "data": {
      "text/plain": [
       "<Figure size 432x288 with 0 Axes>"
      ]
     },
     "metadata": {},
     "output_type": "display_data"
    },
    {
     "data": {
      "text/plain": [
       "<Figure size 432x288 with 0 Axes>"
      ]
     },
     "metadata": {},
     "output_type": "display_data"
    },
    {
     "data": {
      "text/plain": [
       "<Figure size 432x288 with 0 Axes>"
      ]
     },
     "metadata": {},
     "output_type": "display_data"
    },
    {
     "data": {
      "text/plain": [
       "<Figure size 432x288 with 0 Axes>"
      ]
     },
     "metadata": {},
     "output_type": "display_data"
    },
    {
     "data": {
      "text/plain": [
       "<Figure size 432x288 with 0 Axes>"
      ]
     },
     "metadata": {},
     "output_type": "display_data"
    },
    {
     "data": {
      "text/plain": [
       "<Figure size 432x288 with 0 Axes>"
      ]
     },
     "metadata": {},
     "output_type": "display_data"
    },
    {
     "data": {
      "text/plain": [
       "<Figure size 432x288 with 0 Axes>"
      ]
     },
     "metadata": {},
     "output_type": "display_data"
    },
    {
     "data": {
      "text/plain": [
       "<Figure size 432x288 with 0 Axes>"
      ]
     },
     "metadata": {},
     "output_type": "display_data"
    },
    {
     "data": {
      "text/plain": [
       "<Figure size 432x288 with 0 Axes>"
      ]
     },
     "metadata": {},
     "output_type": "display_data"
    },
    {
     "data": {
      "text/plain": [
       "<Figure size 432x288 with 0 Axes>"
      ]
     },
     "metadata": {},
     "output_type": "display_data"
    },
    {
     "data": {
      "text/plain": [
       "<Figure size 432x288 with 0 Axes>"
      ]
     },
     "metadata": {},
     "output_type": "display_data"
    }
   ],
   "source": [
    "#Full reads first 7 mins of data as min time is 8 mins\n",
    "#Calculating Area Under the Curve\n",
    "\n",
    "#Creating Directories\n",
    "\n",
    "    \n",
    "    \n",
    "#Sheet Names for reading from files\n",
    "sheets=['Rel_Dri','Str_Dri','Cal','Math']\n",
    "\n",
    "#List of files to be read\n",
    "dir_list = glob.glob('EMG_Filtered_Split/*.xlsx')\n",
    "dir_list.sort()\n",
    "\n",
    "#File for writing final output\n",
    "workbook_full = xlsxwriter.Workbook('EMG_Spectrogram/PSD_Data_Full/Area_Under_Curve.xlsx') \n",
    "bold = workbook_full.add_format({'bold': True})\n",
    "bold = workbook_first.add_format({'bold': True})\n",
    "row=0\n",
    "\n",
    "#Name and col ref to channels\n",
    "channel=['C1','C2']\n",
    "col={'C1':2,'C2':3}\n",
    "\n",
    "\n",
    "for i in range(len(dir_list)):\n",
    "    \n",
    "    #participant name information\n",
    "    partname=dir_list[i].replace('EMG_Filtered_Split','')\n",
    "    partname=partname.replace('.xlsx','')\n",
    "    \n",
    "    #Read the files\n",
    "    RD = pd.read_excel(dir_list[i], sheets[0],header=0)\n",
    "    SD = pd.read_excel(dir_list[i], sheets[1],header=0)\n",
    "    C = pd.read_excel(dir_list[i], sheets[2],header=0)\n",
    "    M = pd.read_excel(dir_list[i], sheets[3],header=0)\n",
    "\n",
    "    \n",
    "        \n",
    "    #For loop for looping through the 2 channels\n",
    "    for j in range(len(channel)):        \n",
    "        if i is len(dir_list)-1\n",
    "        fig=plt.figure()\n",
    "        #Doing PSD on the Full data and plotting it\n",
    "        RD_Data=plt.psd(RD[RD.columns[col[channel[j]]]][:7*60*512], Fs=512,color='b',label='Relaxed_Driving')\n",
    "        SD_Data=plt.psd(SD[SD.columns[col[channel[j]]]][:7*60*512], Fs=512,color='r',label='Stressed_Driving')\n",
    "        plt.xlim((10,100))\n",
    "        plt.legend()\n",
    "        plt.savefig(savefigpath_full+channel[j]+'_Driv.png')\n",
    "        plt.clf()\n",
    "        plt.figure()\n",
    "        C_Data=plt.psd(C[C.columns[col[channel[j]]]][:7*60*512], Fs=512,color='b',label='Calm')\n",
    "        M_Data=plt.psd(M[M.columns[col[channel[j]]]][:7*60*512], Fs=512,color='r',label='Math')\n",
    "        plt.legend()\n",
    "        plt.savefig(savefigpath_full+channel[j]+'_Cond.png')\n",
    "        plt.clf()\n",
    "\n",
    "        if workbook_full.get_worksheet_by_name(channel[j]):\n",
    "            worksheet_full=workbook_full.get_worksheet_by_name(channel[j])\n",
    "        else:\n",
    "            worksheet_full = workbook_full.add_worksheet(channel[j])\n",
    "            row=0\n",
    "            worksheet_full.write(row,0,'Participant',bold)\n",
    "            worksheet_full.write(row,1,'Area_Full_RD',bold)\n",
    "            worksheet_full.write(row,2,'Area_Full_SD',bold)\n",
    "            worksheet_full.write(row,3,'Area_Full_C',bold)\n",
    "            worksheet_full.write(row,4,'Area_Full_M',bold)\n",
    "            worksheet_full.write(row,6,'Area_First_RD',bold)\n",
    "            worksheet_full.write(row,7,'Area_First_SD',bold)\n",
    "            worksheet_full.write(row,8,'Area_First_C',bold)\n",
    "            worksheet_full.write(row,9,'Area_First_M',bold)\n",
    "            row+=1\n",
    "\n",
    "        \n",
    "        worksheet_full.write(row,0,partname)\n",
    "        worksheet_full.write(row,1,np.trapz(RD[RD.columns[col[channel[j]]]][:7*60*512], dx = 1/512))\n",
    "        worksheet_full.write(row,2,np.trapz(SD[SD.columns[col[channel[j]]]][:7*60*512], dx = 1/512))\n",
    "        worksheet_full.write(row,3,np.trapz(C[C.columns[col[channel[j]]]][:7*60*512], dx = 1/512))\n",
    "        worksheet_full.write(row,4,np.trapz(M[M.columns[col[channel[j]]]][:7*60*512], dx = 1/512))\n",
    "        worksheet_full.write(row,6,np.trapz(RD[RD.columns[col[channel[j]]]][:1*60*512], dx = 1/512))\n",
    "        worksheet_full.write(row,7,np.trapz(SD[SD.columns[col[channel[j]]]][:1*60*512], dx = 1/512))\n",
    "        worksheet_full.write(row,8,np.trapz(C[C.columns[col[channel[j]]]][:1*60*512], dx = 1/512))\n",
    "        worksheet_full.write(row,9,np.trapz(M[M.columns[col[channel[j]]]][:1*60*512], dx = 1/512))\n",
    "        row+=1\n",
    "\n",
    "\n",
    "workbook_full.close() \n",
    "\n",
    "\n",
    "\n",
    "\n",
    "\n",
    "\n"
   ]
  },
  {
   "cell_type": "code",
   "execution_count": 199,
   "metadata": {},
   "outputs": [
    {
     "data": {
      "text/plain": [
       "'EMG_Spectrogram/Plots_Full/B326_Full_'"
      ]
     },
     "execution_count": 199,
     "metadata": {},
     "output_type": "execute_result"
    }
   ],
   "source": [
    "savefigpath_full\n"
   ]
  }
 ],
 "metadata": {
  "kernelspec": {
   "display_name": "Python 3",
   "language": "python",
   "name": "python3"
  },
  "language_info": {
   "codemirror_mode": {
    "name": "ipython",
    "version": 3
   },
   "file_extension": ".py",
   "mimetype": "text/x-python",
   "name": "python",
   "nbconvert_exporter": "python",
   "pygments_lexer": "ipython3",
   "version": "3.5.2"
  }
 },
 "nbformat": 4,
 "nbformat_minor": 2
}
