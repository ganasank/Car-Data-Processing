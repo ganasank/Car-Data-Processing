{
 "cells": [
  {
   "cell_type": "code",
   "execution_count": 77,
   "metadata": {},
   "outputs": [],
   "source": [
    "import shutil\n",
    "import numpy as np\n",
    "import matplotlib.pyplot as plt\n",
    "import scipy.fftpack\n",
    "from scipy.signal import butter, lfilter, freqz, filtfilt\n",
    "import pandas as pd\n",
    "import xlsxwriter \n",
    "import os\n",
    "import glob\n",
    "from datetime import timedelta\n",
    "delta = timedelta(0)"
   ]
  },
  {
   "cell_type": "code",
   "execution_count": 3,
   "metadata": {},
   "outputs": [],
   "source": [
    "Hdrive='H:\\Stress on the road'\n",
    "dir_list=os.listdir(Hdrive)\n",
    "if not os.path.isdir(Hdrive+'\\\\Consolidated\\\\'):\n",
    "    os.mkdir(Hdrive+'\\\\Consolidated\\\\')"
   ]
  },
  {
   "cell_type": "code",
   "execution_count": 6,
   "metadata": {},
   "outputs": [],
   "source": [
    "dest=list()\n",
    "source=list()\n",
    "for file in dir_list:\n",
    "    #print(file)\n",
    "    if os.path.isdir(Hdrive+'\\\\'+file):\n",
    "        if file.startswith('C'):\n",
    "            if file=='Consolidated':\n",
    "                continue\n",
    "            dest.append(Hdrive+'\\\\'+'Consolidated\\\\'+file.split('-')[0].strip())\n",
    "            source.append(Hdrive+'\\\\'+file)\n",
    "            if not os.path.isdir(Hdrive+'\\\\'+'Consolidated\\\\'+file.split('-')[0]):\n",
    "                os.mkdir(Hdrive+'\\\\'+'Consolidated\\\\'+file.split('-')[0])"
   ]
  },
  {
   "cell_type": "code",
   "execution_count": 154,
   "metadata": {},
   "outputs": [],
   "source": [
    "leg=pd.read_excel(r'H:\\Stress on the road\\Headers.xlsx',header=None)"
   ]
  },
  {
   "cell_type": "markdown",
   "metadata": {},
   "source": [
    "#EDA, EMG and Zephyr has folders in them"
   ]
  },
  {
   "cell_type": "markdown",
   "metadata": {},
   "source": [
    "#EDA File Processing - creates two files - one synced with Video, other with normalized time indices"
   ]
  },
  {
   "cell_type": "code",
   "execution_count": 150,
   "metadata": {},
   "outputs": [
    {
     "name": "stdout",
     "output_type": "stream",
     "text": [
      "EDA not recorded in  C10\n",
      "C100 EDA\n",
      "Column 0 is  Timestamp\n"
     ]
    },
    {
     "name": "stderr",
     "output_type": "stream",
     "text": [
      "C:\\Users\\Admin\\Anaconda3\\lib\\site-packages\\ipykernel_launcher.py:34: SettingWithCopyWarning: \n",
      "A value is trying to be set on a copy of a slice from a DataFrame.\n",
      "Try using .loc[row_indexer,col_indexer] = value instead\n",
      "\n",
      "See the caveats in the documentation: http://pandas.pydata.org/pandas-docs/stable/indexing.html#indexing-view-versus-copy\n"
     ]
    },
    {
     "name": "stdout",
     "output_type": "stream",
     "text": [
      "Length is  19091\n"
     ]
    },
    {
     "name": "stderr",
     "output_type": "stream",
     "text": [
      "C:\\Users\\Admin\\Anaconda3\\lib\\site-packages\\ipykernel_launcher.py:34: SettingWithCopyWarning: \n",
      "A value is trying to be set on a copy of a slice from a DataFrame.\n",
      "Try using .loc[row_indexer,col_indexer] = value instead\n",
      "\n",
      "See the caveats in the documentation: http://pandas.pydata.org/pandas-docs/stable/indexing.html#indexing-view-versus-copy\n"
     ]
    },
    {
     "name": "stdout",
     "output_type": "stream",
     "text": [
      "C101 EDA\n",
      "Column 0 is  Timestamp\n",
      "Length is  19789\n"
     ]
    },
    {
     "name": "stderr",
     "output_type": "stream",
     "text": [
      "C:\\Users\\Admin\\Anaconda3\\lib\\site-packages\\ipykernel_launcher.py:34: SettingWithCopyWarning: \n",
      "A value is trying to be set on a copy of a slice from a DataFrame.\n",
      "Try using .loc[row_indexer,col_indexer] = value instead\n",
      "\n",
      "See the caveats in the documentation: http://pandas.pydata.org/pandas-docs/stable/indexing.html#indexing-view-versus-copy\n"
     ]
    },
    {
     "name": "stdout",
     "output_type": "stream",
     "text": [
      "C102 EDA\n",
      "Column 0 is  Timestamp\n",
      "Length is  15366\n",
      "EDA not recorded in  C103\n",
      "C104 EDA\n",
      "Column 0 is  Timestamp\n"
     ]
    },
    {
     "name": "stderr",
     "output_type": "stream",
     "text": [
      "C:\\Users\\Admin\\Anaconda3\\lib\\site-packages\\ipykernel_launcher.py:34: SettingWithCopyWarning: \n",
      "A value is trying to be set on a copy of a slice from a DataFrame.\n",
      "Try using .loc[row_indexer,col_indexer] = value instead\n",
      "\n",
      "See the caveats in the documentation: http://pandas.pydata.org/pandas-docs/stable/indexing.html#indexing-view-versus-copy\n"
     ]
    },
    {
     "name": "stdout",
     "output_type": "stream",
     "text": [
      "Length is  19842\n"
     ]
    },
    {
     "name": "stderr",
     "output_type": "stream",
     "text": [
      "C:\\Users\\Admin\\Anaconda3\\lib\\site-packages\\ipykernel_launcher.py:34: SettingWithCopyWarning: \n",
      "A value is trying to be set on a copy of a slice from a DataFrame.\n",
      "Try using .loc[row_indexer,col_indexer] = value instead\n",
      "\n",
      "See the caveats in the documentation: http://pandas.pydata.org/pandas-docs/stable/indexing.html#indexing-view-versus-copy\n"
     ]
    },
    {
     "name": "stdout",
     "output_type": "stream",
     "text": [
      "C105 EDA\n",
      "Column 0 is  Timestamp\n",
      "Length is  20010\n"
     ]
    },
    {
     "name": "stderr",
     "output_type": "stream",
     "text": [
      "C:\\Users\\Admin\\Anaconda3\\lib\\site-packages\\ipykernel_launcher.py:34: SettingWithCopyWarning: \n",
      "A value is trying to be set on a copy of a slice from a DataFrame.\n",
      "Try using .loc[row_indexer,col_indexer] = value instead\n",
      "\n",
      "See the caveats in the documentation: http://pandas.pydata.org/pandas-docs/stable/indexing.html#indexing-view-versus-copy\n"
     ]
    },
    {
     "name": "stdout",
     "output_type": "stream",
     "text": [
      "C106 EDA\n",
      "Column 0 is  Timestamp\n",
      "Length is  14100\n"
     ]
    },
    {
     "name": "stderr",
     "output_type": "stream",
     "text": [
      "C:\\Users\\Admin\\Anaconda3\\lib\\site-packages\\ipykernel_launcher.py:34: SettingWithCopyWarning: \n",
      "A value is trying to be set on a copy of a slice from a DataFrame.\n",
      "Try using .loc[row_indexer,col_indexer] = value instead\n",
      "\n",
      "See the caveats in the documentation: http://pandas.pydata.org/pandas-docs/stable/indexing.html#indexing-view-versus-copy\n"
     ]
    },
    {
     "name": "stdout",
     "output_type": "stream",
     "text": [
      "C107 EDA\n",
      "Column 0 is  Timestamp\n",
      "Length is  20606\n"
     ]
    },
    {
     "name": "stderr",
     "output_type": "stream",
     "text": [
      "C:\\Users\\Admin\\Anaconda3\\lib\\site-packages\\ipykernel_launcher.py:34: SettingWithCopyWarning: \n",
      "A value is trying to be set on a copy of a slice from a DataFrame.\n",
      "Try using .loc[row_indexer,col_indexer] = value instead\n",
      "\n",
      "See the caveats in the documentation: http://pandas.pydata.org/pandas-docs/stable/indexing.html#indexing-view-versus-copy\n"
     ]
    },
    {
     "name": "stdout",
     "output_type": "stream",
     "text": [
      "C108 EDA\n",
      "Column 0 is  Timestamp\n",
      "Length is  18618\n"
     ]
    },
    {
     "name": "stderr",
     "output_type": "stream",
     "text": [
      "C:\\Users\\Admin\\Anaconda3\\lib\\site-packages\\ipykernel_launcher.py:34: SettingWithCopyWarning: \n",
      "A value is trying to be set on a copy of a slice from a DataFrame.\n",
      "Try using .loc[row_indexer,col_indexer] = value instead\n",
      "\n",
      "See the caveats in the documentation: http://pandas.pydata.org/pandas-docs/stable/indexing.html#indexing-view-versus-copy\n"
     ]
    },
    {
     "name": "stdout",
     "output_type": "stream",
     "text": [
      "C109 EDA\n",
      "Column 0 is  Timestamp\n",
      "Length is  14786\n"
     ]
    },
    {
     "name": "stderr",
     "output_type": "stream",
     "text": [
      "C:\\Users\\Admin\\Anaconda3\\lib\\site-packages\\ipykernel_launcher.py:34: SettingWithCopyWarning: \n",
      "A value is trying to be set on a copy of a slice from a DataFrame.\n",
      "Try using .loc[row_indexer,col_indexer] = value instead\n",
      "\n",
      "See the caveats in the documentation: http://pandas.pydata.org/pandas-docs/stable/indexing.html#indexing-view-versus-copy\n"
     ]
    },
    {
     "name": "stdout",
     "output_type": "stream",
     "text": [
      "C110 EDA\n",
      "Column 0 is  Timestamp\n",
      "Length is  15648\n"
     ]
    },
    {
     "name": "stderr",
     "output_type": "stream",
     "text": [
      "C:\\Users\\Admin\\Anaconda3\\lib\\site-packages\\ipykernel_launcher.py:34: SettingWithCopyWarning: \n",
      "A value is trying to be set on a copy of a slice from a DataFrame.\n",
      "Try using .loc[row_indexer,col_indexer] = value instead\n",
      "\n",
      "See the caveats in the documentation: http://pandas.pydata.org/pandas-docs/stable/indexing.html#indexing-view-versus-copy\n"
     ]
    },
    {
     "name": "stdout",
     "output_type": "stream",
     "text": [
      "C111 EDA\n",
      "Column 0 is  Timestamp\n",
      "Length is  18474\n"
     ]
    },
    {
     "name": "stderr",
     "output_type": "stream",
     "text": [
      "C:\\Users\\Admin\\Anaconda3\\lib\\site-packages\\ipykernel_launcher.py:34: SettingWithCopyWarning: \n",
      "A value is trying to be set on a copy of a slice from a DataFrame.\n",
      "Try using .loc[row_indexer,col_indexer] = value instead\n",
      "\n",
      "See the caveats in the documentation: http://pandas.pydata.org/pandas-docs/stable/indexing.html#indexing-view-versus-copy\n"
     ]
    },
    {
     "name": "stdout",
     "output_type": "stream",
     "text": [
      "C112 EDA\n",
      "Column 0 is  Timestamp\n",
      "Length is  17484\n"
     ]
    },
    {
     "name": "stderr",
     "output_type": "stream",
     "text": [
      "C:\\Users\\Admin\\Anaconda3\\lib\\site-packages\\ipykernel_launcher.py:34: SettingWithCopyWarning: \n",
      "A value is trying to be set on a copy of a slice from a DataFrame.\n",
      "Try using .loc[row_indexer,col_indexer] = value instead\n",
      "\n",
      "See the caveats in the documentation: http://pandas.pydata.org/pandas-docs/stable/indexing.html#indexing-view-versus-copy\n"
     ]
    },
    {
     "name": "stdout",
     "output_type": "stream",
     "text": [
      "C113 EDA\n",
      "Column 0 is  Timestamp\n",
      "Length is  21234\n"
     ]
    },
    {
     "name": "stderr",
     "output_type": "stream",
     "text": [
      "C:\\Users\\Admin\\Anaconda3\\lib\\site-packages\\ipykernel_launcher.py:34: SettingWithCopyWarning: \n",
      "A value is trying to be set on a copy of a slice from a DataFrame.\n",
      "Try using .loc[row_indexer,col_indexer] = value instead\n",
      "\n",
      "See the caveats in the documentation: http://pandas.pydata.org/pandas-docs/stable/indexing.html#indexing-view-versus-copy\n"
     ]
    },
    {
     "name": "stdout",
     "output_type": "stream",
     "text": [
      "C114 EDA\n",
      "Column 0 is  Timestamp\n",
      "Length is  20784\n"
     ]
    },
    {
     "name": "stderr",
     "output_type": "stream",
     "text": [
      "C:\\Users\\Admin\\Anaconda3\\lib\\site-packages\\ipykernel_launcher.py:34: SettingWithCopyWarning: \n",
      "A value is trying to be set on a copy of a slice from a DataFrame.\n",
      "Try using .loc[row_indexer,col_indexer] = value instead\n",
      "\n",
      "See the caveats in the documentation: http://pandas.pydata.org/pandas-docs/stable/indexing.html#indexing-view-versus-copy\n"
     ]
    },
    {
     "name": "stdout",
     "output_type": "stream",
     "text": [
      "C115 EDA\n",
      "Column 0 is  Timestamp\n",
      "Length is  18552\n"
     ]
    },
    {
     "name": "stderr",
     "output_type": "stream",
     "text": [
      "C:\\Users\\Admin\\Anaconda3\\lib\\site-packages\\ipykernel_launcher.py:34: SettingWithCopyWarning: \n",
      "A value is trying to be set on a copy of a slice from a DataFrame.\n",
      "Try using .loc[row_indexer,col_indexer] = value instead\n",
      "\n",
      "See the caveats in the documentation: http://pandas.pydata.org/pandas-docs/stable/indexing.html#indexing-view-versus-copy\n"
     ]
    },
    {
     "name": "stdout",
     "output_type": "stream",
     "text": [
      "C116 EDA\n",
      "Column 0 is  Timestamp\n",
      "Length is  13534\n"
     ]
    }
   ],
   "source": [
    "Variables=['EDA']\n",
    "found = False\n",
    "for Variable in Variables:\n",
    "    for folders in source:\n",
    "        #print(os.listdir(folders))\n",
    "        if not os.path.isdir(folders+'\\\\'+Variable):\n",
    "            print(Variable, 'not recorded in ',str(folders.split('\\\\')[-1].split('-')[0].strip()))\n",
    "            continue\n",
    "        folders_inside=glob.glob(folders+'\\\\'+Variable+'\\\\*')\n",
    "        for items in folders_inside:\n",
    "            if os.path.isdir(items):\n",
    "                found=True\n",
    "                break\n",
    "        if found==False:\n",
    "            print(Variable, 'not found in ',str(folders.split('\\\\')[-1].split('-')[0].strip()))\n",
    "            continue\n",
    "        if os.path.isdir(items):\n",
    "            pairs=[]\n",
    "            files = glob.glob(items+'\\\\*EDA*.csv')\n",
    "            for file in files:\n",
    "                size=(os.path.getsize(file))\n",
    "                pairs.append((size, file))\n",
    "            pairs.sort(key=lambda s: s[0])\n",
    "            file=pairs[-1][1]\n",
    "            try:\n",
    "                data_for=pd.read_csv(file,header=None,index_col=None)\n",
    "                Time=data_for.iloc[0].values[0]\n",
    "                freq=data_for.iloc[1].values[0]\n",
    "                data=data_for[2:]\n",
    "                data.columns=['EDA']\n",
    "                Times=np.empty(len(data))\n",
    "                for i in range(len(data)):\n",
    "                    Times[i]=Time+(i*(1/freq))\n",
    "                data['Timestamp']=Times\n",
    "                data=data.reindex(columns=['Timestamp','EDA'])\n",
    "\n",
    "                print(str(folders.split('\\\\')[-1].split('-')[0].strip()),Variable)\n",
    "                print(\"Column 0 is \",data.columns[0])\n",
    "                #data.columns=columns[Variable]\n",
    "\n",
    "            except:\n",
    "                print(str(folders.split('\\\\')[-1].split('-')[0].strip()),'has problem in number of columns in ',Variable)\n",
    "                continue\n",
    "            data.index=pd.to_datetime(data['Timestamp'],unit='s')\n",
    "            data.index=data.index-pd.to_datetime(Vid_Start['Time'][source.index(folders)],unit='s')\n",
    "            data.index=data.index.round('10ms')\n",
    "            if len(data[data.index>=delta]):\n",
    "                data[data.index>delta].to_csv(dest[source.index(folders)]+'\\\\'+Variable+'_chronoviz.csv',index_label='Time')\n",
    "                print(\"Length is \",len(data[data.index>delta]))\n",
    "            data.index=pd.to_datetime(data['Timestamp'],unit='s')\n",
    "            data.index=data.index-data.index[0]\n",
    "            data.index=data.index.round('10ms')\n",
    "            data.to_csv(dest[source.index(folders)]+'\\\\'+Variable+'_original.csv',index_label='Time')"
   ]
  },
  {
   "cell_type": "markdown",
   "metadata": {},
   "source": [
    "#Zephyr General File Processing - creates two files - one synced with Video, other with normalized time indices"
   ]
  },
  {
   "cell_type": "code",
   "execution_count": 92,
   "metadata": {},
   "outputs": [
    {
     "name": "stdout",
     "output_type": "stream",
     "text": [
      "C10 Zephyr\n",
      "Column 0 is  Timestamp\n",
      "Length is  3873\n",
      "C100 Zephyr\n",
      "Column 0 is  Timestamp\n",
      "Length is  4828\n",
      "C101 Zephyr\n",
      "Column 0 is  Timestamp\n",
      "Length is  5482\n",
      "C102 Zephyr\n",
      "Column 0 is  Timestamp\n",
      "Length is  4085\n",
      "Zephyr not recorded in  C103\n",
      "C104 Zephyr\n",
      "Column 0 is  Timestamp\n",
      "Length is  5171\n",
      "C105 Zephyr\n",
      "Column 0 is  Timestamp\n",
      "Length is  5219\n",
      "C106 Zephyr\n",
      "Column 0 is  Timestamp\n",
      "Length is  4068\n",
      "C107 Zephyr\n",
      "Column 0 is  Timestamp\n",
      "Length is  5184\n",
      "C108 Zephyr\n",
      "Column 0 is  Timestamp\n",
      "Length is  5407\n",
      "C109 Zephyr\n",
      "Column 0 is  Timestamp\n",
      "Length is  3947\n",
      "C110 Zephyr\n",
      "Column 0 is  Timestamp\n",
      "Length is  4800\n",
      "C111 Zephyr\n",
      "Column 0 is  Timestamp\n",
      "Length is  5255\n",
      "C112 Zephyr\n",
      "Column 0 is  Timestamp\n",
      "Length is  4474\n",
      "C113 Zephyr\n",
      "Column 0 is  Timestamp\n",
      "Length is  5390\n",
      "C114 Zephyr\n",
      "Column 0 is  Timestamp\n",
      "Length is  5271\n",
      "C115 Zephyr\n",
      "Column 0 is  Timestamp\n",
      "Length is  4913\n",
      "C116 Zephyr\n",
      "Column 0 is  Timestamp\n",
      "Length is  3415\n"
     ]
    }
   ],
   "source": [
    "Variables=['Zephyr']\n",
    "found = False\n",
    "for Variable in Variables:\n",
    "    for folders in source:\n",
    "        #print(os.listdir(folders))\n",
    "        if not os.path.isdir(folders+'\\\\'+Variable):\n",
    "            print(Variable, 'not recorded in ',str(folders.split('\\\\')[-1].split('-')[0].strip()))\n",
    "            continue\n",
    "        folders_inside=glob.glob(folders+'\\\\'+Variable+'\\\\*')\n",
    "        for items in folders_inside:\n",
    "            if os.path.isdir(items):\n",
    "                found=True\n",
    "                break\n",
    "        if found==False:\n",
    "            print(Variable, 'not found in ',str(folders.split('\\\\')[-1].split('-')[0].strip()))\n",
    "            continue\n",
    "        if os.path.isdir(items):\n",
    "            pairs=[]\n",
    "            files = glob.glob(items+'\\\\*General*.csv')\n",
    "            for file in files:\n",
    "                size=(os.path.getsize(file))\n",
    "                pairs.append((size, file))\n",
    "            pairs.sort(key=lambda s: s[0])\n",
    "            file=pairs[-1][1]\n",
    "        try:\n",
    "            data=pd.read_csv(file,header=0,index_col=None)\n",
    "            print(str(folders.split('\\\\')[-1].split('-')[0].strip()),Variable)\n",
    "            print(\"Column 0 is \",data.columns[0])\n",
    "            #data.columns=columns[Variable]\n",
    "\n",
    "        except:\n",
    "            print(str(folders.split('\\\\')[-1].split('-')[0].strip()),'has problem in number of columns in ',Variable)\n",
    "            continue\n",
    "        data.index=pd.to_datetime(data['Timestamp'],dayfirst=True)\n",
    "        #localizing time format, convert it and delocalize it\n",
    "        data.index=data.index.tz_localize('US/Pacific').tz_convert('GMT').tz_localize(None)\n",
    "        data.index=data.index-pd.to_datetime(Vid_Start['Time'][source.index(folders)],unit='s')\n",
    "        data.index=data.index.round('10ms')\n",
    "        if len(data[data.index>=delta]):\n",
    "            data[data.index>delta].to_csv(dest[source.index(folders)]+'\\\\'+Variable+'_chronoviz.csv',index_label='Time')\n",
    "            print(\"Length is \",len(data[data.index>delta]))\n",
    "        data.index=pd.to_datetime(data['Timestamp'],dayfirst=True)\n",
    "        #localizing time format, convert it and delocalize it\n",
    "        data.index=data.index.tz_localize('US/Pacific').tz_convert('GMT').tz_localize(None)\n",
    "        data.index=data.index-data.index[0]\n",
    "        data.index=data.index.round('10ms')\n",
    "        data.to_csv(dest[source.index(folders)]+'\\\\'+Variable+'_original.csv',index_label='Time')"
   ]
  },
  {
   "cell_type": "markdown",
   "metadata": {},
   "source": [
    "#Zephyr ECG File Processing - creates two files - one synced with Video, other with normalized time indices"
   ]
  },
  {
   "cell_type": "code",
   "execution_count": 153,
   "metadata": {},
   "outputs": [
    {
     "name": "stdout",
     "output_type": "stream",
     "text": [
      "C10 Zephyr\n",
      "Column 0 is  Timestamp\n",
      "Length is  968491\n",
      "C100 Zephyr\n",
      "Column 0 is  Timestamp\n",
      "Length is  1207097\n",
      "C101 Zephyr\n",
      "Column 0 is  Timestamp\n",
      "Length is  1370700\n",
      "C102 Zephyr\n",
      "Column 0 is  Timestamp\n",
      "Length is  1021250\n",
      "Zephyr not recorded in  C103\n",
      "C104 Zephyr\n",
      "Column 0 is  Timestamp\n",
      "Length is  1292750\n",
      "C105 Zephyr\n",
      "Column 0 is  Timestamp\n",
      "Length is  1304774\n",
      "C106 Zephyr\n",
      "Column 0 is  Timestamp\n",
      "Length is  1017002\n",
      "C107 Zephyr\n",
      "Column 0 is  Timestamp\n",
      "Length is  1296242\n",
      "C108 Zephyr\n",
      "Column 0 is  Timestamp\n",
      "Length is  1351903\n",
      "C109 Zephyr\n",
      "Column 0 is  Timestamp\n",
      "Length is  986903\n",
      "C110 Zephyr\n",
      "Column 0 is  Timestamp\n",
      "Length is  1200136\n",
      "C111 Zephyr\n",
      "Column 0 is  Timestamp\n",
      "Length is  1313797\n",
      "C112 Zephyr\n",
      "Column 0 is  Timestamp\n",
      "Length is  1118500\n",
      "C113 Zephyr\n",
      "Column 0 is  Timestamp\n",
      "Length is  1347500\n",
      "C114 Zephyr\n",
      "Column 0 is  Timestamp\n",
      "Length is  1317750\n",
      "C115 Zephyr\n",
      "Column 0 is  Timestamp\n",
      "Length is  1228250\n",
      "C116 Zephyr\n",
      "Column 0 is  Timestamp\n",
      "Length is  853776\n"
     ]
    }
   ],
   "source": [
    "Variables=['Zephyr']\n",
    "found = False\n",
    "for Variable in Variables:\n",
    "    for folders in source:\n",
    "        #print(os.listdir(folders))\n",
    "        if not os.path.isdir(folders+'\\\\'+Variable):\n",
    "            print(Variable, 'not recorded in ',str(folders.split('\\\\')[-1].split('-')[0].strip()))\n",
    "            continue\n",
    "        folders_inside=glob.glob(folders+'\\\\'+Variable+'\\\\*')\n",
    "        for items in folders_inside:\n",
    "            if os.path.isdir(items):\n",
    "                found=True\n",
    "                break\n",
    "        if found==False:\n",
    "            print(Variable, 'not found in ',str(folders.split('\\\\')[-1].split('-')[0].strip()))\n",
    "            continue\n",
    "        if os.path.isdir(items):\n",
    "            pairs=[]\n",
    "            files = glob.glob(items+'\\\\*ECG*.csv')\n",
    "            for file in files:\n",
    "                size=(os.path.getsize(file))\n",
    "                pairs.append((size, file))\n",
    "            pairs.sort(key=lambda s: s[0])\n",
    "            file=pairs[-1][1]\n",
    "        try:\n",
    "            data=pd.read_csv(file,header=0,index_col=None)\n",
    "            print(str(folders.split('\\\\')[-1].split('-')[0].strip()),Variable)\n",
    "            print(\"Column 0 is \",data.columns[0])\n",
    "            #data.columns=columns[Variable]\n",
    "\n",
    "        except:\n",
    "            print(str(folders.split('\\\\')[-1].split('-')[0].strip()),'has problem in number of columns in ',Variable)\n",
    "            continue\n",
    "        data.index=pd.to_datetime(data['Timestamp'],dayfirst=True)\n",
    "        #localizing time format, convert it and delocalize it\n",
    "        data.index=data.index.tz_localize('US/Pacific').tz_convert('GMT').tz_localize(None)\n",
    "        data.index=data.index-pd.to_datetime(Vid_Start['Time'][source.index(folders)],unit='s')\n",
    "        data.index=data.index.round('10ms')\n",
    "        if len(data[data.index>=delta]):\n",
    "            data[data.index>delta].to_csv(dest[source.index(folders)]+'\\\\'+Variable+'_ECG_chronoviz.csv',index_label='Time')\n",
    "            print(\"Length is \",len(data[data.index>delta]))\n",
    "        data.index=pd.to_datetime(data['Timestamp'],dayfirst=True)\n",
    "        #localizing time format, convert it and delocalize it\n",
    "        data.index=data.index.tz_localize('US/Pacific').tz_convert('GMT').tz_localize(None)\n",
    "        data.index=data.index-data.index[0]\n",
    "        data.index=data.index.round('10ms')\n",
    "        data.to_csv(dest[source.index(folders)]+'\\\\'+Variable+'_ECG_original.csv',index_label='Time')"
   ]
  },
  {
   "cell_type": "markdown",
   "metadata": {},
   "source": [
    "#EMG File Processing - creates two files - one synced with Video, other with normalized time indices"
   ]
  },
  {
   "cell_type": "code",
   "execution_count": 415,
   "metadata": {},
   "outputs": [
    {
     "name": "stdout",
     "output_type": "stream",
     "text": [
      "EMG not recorded in  C10\n",
      "EMG not recorded in  C100\n",
      "EMG not recorded in  C101\n",
      "EMG not recorded in  C102\n",
      "EMG not recorded in  C103\n",
      "C104 EMG\n",
      "Column 0 is  Shimmer_9DDF_Timestamp_Unix_CAL\n",
      "Length is  5434035\n",
      "C105 EMG\n",
      "Column 0 is  Shimmer_9DDF_Timestamp_Unix_CAL\n",
      "Length is  2660404\n",
      "C106 EMG\n",
      "Column 0 is  Shimmer_9DDF_Timestamp_Unix_CAL\n",
      "Length is  1971717\n",
      "C107 EMG\n",
      "Column 0 is  Shimmer_9DDF_Timestamp_Shimmer_CAL\n",
      "C108 EMG\n",
      "Column 0 is  Shimmer_D9BF_Timestamp_Unix_CAL\n",
      "Length is  2274892\n",
      "C109 EMG\n",
      "Column 0 is  Shimmer_D9BF_Timestamp_Unix_CAL\n",
      "Length is  583491\n",
      "C110 EMG\n",
      "Column 0 is  Shimmer_D9BF_Timestamp_Unix_CAL\n",
      "Length is  2003111\n",
      "C111 EMG\n",
      "Column 0 is  Shimmer_D9BF_Timestamp_Unix_CAL\n",
      "Length is  2406574\n",
      "C112 EMG\n",
      "Column 0 is  Shimmer_D9BF_Timestamp_Unix_CAL\n",
      "Length is  2206626\n",
      "EMG not recorded in  C113\n",
      "C114 EMG\n",
      "Column 0 is  Shimmer_D9BF_Timestamp_Unix_CAL\n",
      "Length is  2128324\n",
      "C115 EMG\n",
      "Column 0 is  Shimmer_D9BF_Timestamp_Unix_CAL\n",
      "Length is  2464744\n",
      "EMG not recorded in  C116\n"
     ]
    }
   ],
   "source": [
    "Variables=['EMG']\n",
    "found = False\n",
    "for Variable in Variables:\n",
    "    for folders in source:\n",
    "        #print(os.listdir(folders))\n",
    "        if not os.path.isdir(folders+'\\\\'+Variable):\n",
    "            print(Variable, 'not recorded in ',str(folders.split('\\\\')[-1].split('-')[0].strip()))\n",
    "            continue\n",
    "        folders_inside=glob.glob(folders+'\\\\'+Variable+'\\\\*')\n",
    "        for items in folders_inside:\n",
    "            if os.path.isdir(items) or items.split('.')[-1]=='csv':\n",
    "                found=True\n",
    "                break\n",
    "        if found==False:\n",
    "            print(Variable, 'not found in ',str(folders.split('\\\\')[-1].split('-')[0].strip()))\n",
    "            continue\n",
    "        file=items\n",
    "        if os.path.isdir(items):\n",
    "            pairs=[]\n",
    "            files = glob.glob(items+'\\\\*.csv')\n",
    "            for file in files:\n",
    "                size=(os.path.getsize(file))\n",
    "                pairs.append((size, file))\n",
    "            pairs.sort(key=lambda s: s[0])\n",
    "            file=pairs[-1][1]\n",
    "        try:\n",
    "            data=pd.read_csv(file,header=1,skiprows=[2],sep='\\t',index_col=None)\n",
    "            print(str(folders.split('\\\\')[-1].split('-')[0].strip()),Variable)\n",
    "            print(\"Column 0 is \",data.columns[0])\n",
    "            #data.columns=columns[Variable]\n",
    "            \n",
    "        except:\n",
    "            print(str(folders.split('\\\\')[-1].split('-')[0].strip()),'has problem in number of columns in ',Variable)\n",
    "            continue\n",
    "        data.index=(pd.to_datetime(data[data.columns[0]],unit='ms')-pd.to_datetime(Vid_Start['Time'][source.index(folders)],unit='s'))\n",
    "        data.index=data.index.round('10ms')\n",
    "        if len(data[data.index>=delta]):\n",
    "            data[data.index>delta].to_csv(dest[source.index(folders)]+'\\\\'+Variable+'_chronoviz.csv',index_label='Time')\n",
    "            print(\"Length is \",len(data[data.index>delta]))\n",
    "        data.index=(pd.to_datetime(data[data.columns[0]],unit='ms')-pd.to_datetime(data[data.columns[0]].iloc[0],unit='ms'))\n",
    "        data.index=data.index.round('10ms')\n",
    "        data.to_csv(dest[source.index(folders)]+'\\\\'+Variable+'_original.csv',index_label='Time')"
   ]
  },
  {
   "cell_type": "markdown",
   "metadata": {},
   "source": [
    "#Code for BrakePedal\n",
    "#Creates two files - one file with index as timedelta with first recorded time, another file synced with video"
   ]
  },
  {
   "cell_type": "code",
   "execution_count": 351,
   "metadata": {},
   "outputs": [
    {
     "name": "stdout",
     "output_type": "stream",
     "text": [
      "C10 BrakePedal\n",
      "Length is  73808\n",
      "C100 BrakePedal\n",
      "Length is  82227\n",
      "C101 BrakePedal\n",
      "Length is  97963\n",
      "C102 BrakePedal\n",
      "Length is  73486\n",
      "C103 has problem in number of columns in  BrakePedal\n",
      "C104 BrakePedal\n",
      "Length is  89072\n",
      "C105 BrakePedal\n",
      "Length is  41862\n",
      "C106 BrakePedal\n",
      "Length is  76027\n",
      "C107 BrakePedal\n",
      "Length is  98916\n",
      "C108 BrakePedal\n",
      "Length is  108684\n",
      "C109 BrakePedal\n",
      "Length is  88407\n",
      "C110 BrakePedal\n",
      "Length is  95251\n",
      "C111 BrakePedal\n",
      "Length is  112032\n",
      "C112 BrakePedal\n",
      "Length is  120237\n",
      "C113 BrakePedal\n",
      "Length is  118133\n",
      "C114 BrakePedal\n",
      "Length is  117863\n",
      "C115 BrakePedal\n",
      "Length is  123432\n",
      "C116 BrakePedal\n",
      "Length is  85875\n"
     ]
    }
   ],
   "source": [
    "Variables=['BrakePedal']\n",
    "columns={'BrakePedal':['Timestamp','BrakeValue']}\n",
    "for Variable in Variables:\n",
    "    for folders in source:\n",
    "        #print(os.listdir(folders))\n",
    "        files = glob.glob(folders+'\\\\'+Variable+'\\\\*.csv')\n",
    "        pairs=[]\n",
    "        files = glob.glob(folders+'\\\\'+Variable+'\\\\*.csv')\n",
    "        for file in files:\n",
    "            size=(os.path.getsize(file))\n",
    "            pairs.append((size, file))\n",
    "        pairs.sort(key=lambda s: s[0])\n",
    "        file=pairs[-1][1]\n",
    "        try:\n",
    "            data=pd.read_csv(file,header=None,skiprows=4,index_col=None)\n",
    "            print(str(folders.split('\\\\')[-1].split('-')[0].strip()),Variable)\n",
    "            data.columns=columns[Variable]\n",
    "            \n",
    "        except:\n",
    "            print(str(folders.split('\\\\')[-1].split('-')[0].strip()),'has problem in number of columns in ',Variable)\n",
    "            continue\n",
    "        data.index=(pd.to_datetime(data.Timestamp,unit='s')-pd.to_datetime(Vid_Start['Time'][source.index(folders)],unit='s'))\n",
    "        data.index=data.index.round('10ms')\n",
    "        if len(data[data.index>=delta]):\n",
    "            data[data.index>delta].to_csv(dest[source.index(folders)]+'\\\\'+Variable+'_chronoviz.csv',index_label='Time')\n",
    "            print(\"Length is \",len(data[data.index>delta]))\n",
    "        data.index=(pd.to_datetime(data.Timestamp,unit='s')-pd.to_datetime(data.Timestamp[0],unit='s'))\n",
    "        data.index=data.index.round('10ms')\n",
    "        data.to_csv(dest[source.index(folders)]+'\\\\'+Variable+'_original.csv',index_label='Time')"
   ]
  },
  {
   "cell_type": "markdown",
   "metadata": {},
   "source": [
    "#Code for IMU_Head and IMU_Seat \n",
    "#Creates two files - one file with index as timedelta with first recorded time, another file synced with video"
   ]
  },
  {
   "cell_type": "code",
   "execution_count": 345,
   "metadata": {},
   "outputs": [
    {
     "name": "stdout",
     "output_type": "stream",
     "text": [
      "C10 IMU_Head\n",
      "Length is  109508\n",
      "C100 IMU_Head\n",
      "Length is  138180\n",
      "C101 IMU_Head\n",
      "Length is  165305\n",
      "C102 IMU_Head\n",
      "Length is  134743\n",
      "C103 IMU_Head\n",
      "C104 IMU_Head\n",
      "Length is  149260\n",
      "C105 IMU_Head\n",
      "Length is  70957\n",
      "C106 IMU_Head\n",
      "Length is  127827\n",
      "C107 IMU_Head\n",
      "Length is  165695\n",
      "C108 IMU_Head\n",
      "C108 has problem in number of columns in  IMU_Head\n",
      "C109 IMU_Head\n",
      "C109 has problem in number of columns in  IMU_Head\n",
      "C110 IMU_Head\n",
      "C110 has problem in number of columns in  IMU_Head\n",
      "C111 IMU_Head\n",
      "C111 has problem in number of columns in  IMU_Head\n",
      "C112 IMU_Head\n",
      "C112 has problem in number of columns in  IMU_Head\n",
      "C113 IMU_Head\n",
      "C113 has problem in number of columns in  IMU_Head\n",
      "C114 IMU_Head\n",
      "C114 has problem in number of columns in  IMU_Head\n",
      "C115 IMU_Head\n",
      "C115 has problem in number of columns in  IMU_Head\n",
      "C116 IMU_Head\n",
      "Length is  227883\n",
      "C10 IMU_Seat\n",
      "Length is  119257\n",
      "C100 IMU_Seat\n",
      "Length is  141132\n",
      "C101 IMU_Seat\n",
      "Length is  145288\n",
      "C102 IMU_Seat\n",
      "Length is  110807\n",
      "C103 IMU_Seat\n",
      "C104 IMU_Seat\n",
      "Length is  147481\n",
      "C105 IMU_Seat\n",
      "Length is  69416\n",
      "C106 IMU_Seat\n",
      "Length is  125633\n",
      "C107 IMU_Seat\n",
      "Length is  163211\n",
      "C108 IMU_Seat\n",
      "Length is  276709\n",
      "C109 IMU_Seat\n",
      "Length is  224941\n",
      "C110 IMU_Seat\n",
      "Length is  243398\n",
      "C111 IMU_Seat\n",
      "Length is  286536\n",
      "C112 IMU_Seat\n",
      "Length is  305609\n",
      "C113 IMU_Seat\n",
      "Length is  298314\n",
      "C114 IMU_Seat\n",
      "Length is  301795\n",
      "C115 IMU_Seat\n",
      "Length is  312741\n",
      "C116 IMU_Seat\n",
      "Length is  219223\n"
     ]
    }
   ],
   "source": [
    "Variables=['IMU_Head','IMU_Seat']\n",
    "columns={'IMU_Head':list(leg.T.loc[0]),'IMU_Seat':list(leg.T.loc[0])}\n",
    "for Variable in Variables:\n",
    "    for folders in source:\n",
    "        #print(os.listdir(folders))\n",
    "        files = glob.glob(folders+'\\\\'+Variable+'\\\\*.csv')\n",
    "        pairs=[]\n",
    "        files = glob.glob(folders+'\\\\'+Variable+'\\\\*.csv')\n",
    "        for file in files:\n",
    "            size=(os.path.getsize(file))\n",
    "            pairs.append((size, file))\n",
    "        pairs.sort(key=lambda s: s[0])\n",
    "        file=pairs[-1][1]\n",
    "        data=pd.read_csv(file,header=None,skiprows=80,index_col=None)\n",
    "        print(str(folders.split('\\\\')[-1].split('-')[0].strip()),Variable)\n",
    "        delta = timedelta(0)\n",
    "        try:\n",
    "            data.columns=columns[Variable]\n",
    "        except:\n",
    "            print(str(folders.split('\\\\')[-1].split('-')[0].strip()),'has problem in number of columns in ',Variable)\n",
    "            continue\n",
    "        data.index=(pd.to_datetime(data.Timestamp,unit='s')-pd.to_datetime(Vid_Start['Time'][source.index(folders)],unit='s'))\n",
    "        data.index=data.index.round('10ms')\n",
    "        if len(data[data.index>delta]):\n",
    "            data[data.index>delta].to_csv(dest[source.index(folders)]+'\\\\'+Variable+'_chronoviz.csv',index_label='Time')\n",
    "            print(\"Length is \",len(data[data.index>delta]))\n",
    "        data.index=(pd.to_datetime(data.Timestamp,unit='s')-pd.to_datetime(data.Timestamp[0],unit='s'))\n",
    "        data.index=data.index.round('10ms')\n",
    "        data.to_csv(dest[source.index(folders)]+'\\\\'+Variable+'_original.csv',index_label='Time')"
   ]
  },
  {
   "cell_type": "code",
   "execution_count": 183,
   "metadata": {},
   "outputs": [
    {
     "data": {
      "text/plain": [
       "'H:\\\\Stress on the road\\\\C103-cancelled\\\\IMU_Head\\\\imuLog_1532446409.csv'"
      ]
     },
     "execution_count": 183,
     "metadata": {},
     "output_type": "execute_result"
    }
   ],
   "source": [
    "folders=source[4]\n",
    "Variable='IMU_Head'\n",
    "pairs=[]\n",
    "files = glob.glob(folders+'\\\\'+Variable+'\\\\*.csv')\n",
    "for file in files:\n",
    "    size=(os.path.getsize(file))\n",
    "    pairs.append((size, file))\n",
    "pairs.sort(key=lambda s: s[0])\n",
    "pairs[-1][1]"
   ]
  },
  {
   "cell_type": "markdown",
   "metadata": {},
   "source": [
    "#Code for extracting Start Time of Videos"
   ]
  },
  {
   "cell_type": "code",
   "execution_count": 12,
   "metadata": {},
   "outputs": [],
   "source": [
    "Variable='VIDEO\\\\QUAD'\n",
    "Vid_Start = pd.DataFrame(columns=['User_ID', 'Time'],index=None)\n",
    "#columns={'IMU_Head':list(leg.T.loc[0]),'IMU_Seat':list(leg.T.loc[0])}\n",
    "for folders in source:\n",
    "    #print(os.listdir(folders))\n",
    "    if os.path.isdir(folders+'\\\\'+Variable):\n",
    "        test_file=open(glob.glob(folders+'\\\\'+Variable+'\\\\*.txt')[-1],'r',encoding='utf-8')\n",
    "        test_data=test_file.read()\n",
    "        usr=str(folders.split('\\\\')[-1].split('-')[0].strip())\n",
    "        tme=float(test_data.split(':')[-1].strip())\n",
    "        Vid_Start=Vid_Start.append({'User_ID':usr,'Time':tme},ignore_index=True)\n",
    "Vid_Start.to_csv(Hdrive+'\\\\Consolidated\\\\Vid_Start.csv',index=None)"
   ]
  },
  {
   "cell_type": "code",
   "execution_count": 325,
   "metadata": {},
   "outputs": [
    {
     "data": {
      "text/plain": [
       "Timestamp('2018-07-11 17:38:24.460000038')"
      ]
     },
     "execution_count": 325,
     "metadata": {},
     "output_type": "execute_result"
    }
   ],
   "source": [
    "pd.to_datetime(Vid_Start['Time'][0],unit='s')"
   ]
  },
  {
   "cell_type": "code",
   "execution_count": 117,
   "metadata": {},
   "outputs": [
    {
     "data": {
      "text/plain": [
       "1666716.5399999619"
      ]
     },
     "execution_count": 117,
     "metadata": {},
     "output_type": "execute_result"
    }
   ],
   "source": [
    "1532997421-Vid_Start['Time'][0]"
   ]
  }
 ],
 "metadata": {
  "kernelspec": {
   "display_name": "Python 3",
   "language": "python",
   "name": "python3"
  },
  "language_info": {
   "codemirror_mode": {
    "name": "ipython",
    "version": 3
   },
   "file_extension": ".py",
   "mimetype": "text/x-python",
   "name": "python",
   "nbconvert_exporter": "python",
   "pygments_lexer": "ipython3",
   "version": "3.7.3"
  }
 },
 "nbformat": 4,
 "nbformat_minor": 2
}
